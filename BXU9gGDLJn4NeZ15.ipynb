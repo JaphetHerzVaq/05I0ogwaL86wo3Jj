{
  "cells": [
    {
      "cell_type": "markdown",
      "metadata": {
        "id": "ojnB0z91tdVw"
      },
      "source": [
        "___________________________________________________________________________\n",
        "## **Happy Customers**\n",
        "___________________________________________________________________________"
      ]
    },
    {
      "cell_type": "markdown",
      "metadata": {
        "id": "yEoqH8XptqxA"
      },
      "source": [
        "___________________________________________________________________________\n",
        "### **Context**\n",
        "___________________________________________________________________________\n",
        "We are one of the fastest growing startups in the logistics and delivery domain. We work with several partners and make on-demand delivery to our customers. During the COVID-19 pandemic, we are facing several different challenges and everyday we are trying to address these challenges.\n",
        "\n",
        "We thrive on making our customers happy. As a growing startup, with a global expansion strategy we know that we need to make our customers happy and the only way to do that is to measure how happy each customer is. If we can **predict what makes our customers happy or unhappy**, we can then take necessary actions.\n",
        "\n",
        "Getting feedback from customers is not easy either, but we do our best to get constant feedback from our customers. This is a crucial function to improve our operations across all levels.\n",
        "\n",
        "We recently did a survey to a select customer cohort. You are presented with a subset of this data. We will be using the remaining data as a private test set.\n",
        "___________________________________________________________________________\n",
        "## **Objective**\n",
        "___________________________________________________________________________\n",
        "* Predict if a customer is happy or not based on the answers they give to questions asked.\n",
        "* Find the most important features for customer happiness' prediction.\n",
        "* Fin the minimal feature set to preserve the most information and to increase predictability.\n",
        "___________________________________________________________________________\n",
        "## **Dataset Description**\n",
        "___________________________________________________________________________\n",
        "* Y : target attribute (Y) with values indicating 0 (unhappy) and 1 (happy) customers.\n",
        "* X1 : my order was delivered on time.\n",
        "* X2 : contents of my order was as I expected\n",
        "* X3 : I ordered everything I wanted to order\n",
        "* X4 : I paid a good price for my order\n",
        "* X5 : I am satisfied with my courier\n",
        "* X6 : the app makes ordering easy for me\n",
        "\n",
        "Attributes X1 to X6 indicate the responses for each question and have values from 1 to 5 where the smaller number indicates less and the higher number indicates more towards the answer.\n",
        "___________________________________________________________________________"
      ]
    },
    {
      "cell_type": "markdown",
      "metadata": {
        "id": "C9D7jh8VYOeU"
      },
      "source": [
        "## **Importing the libraries and overview of the dataset**"
      ]
    },
    {
      "cell_type": "code",
      "source": [
        "import pandas as pd # For manipulating data\n",
        "import numpy as np # For mathematical and statistical operations.\n",
        "import matplotlib.pyplot as plt # To create graphs and visualizations\n",
        "import seaborn as sns # To create statistical visualizations\n",
        "from random import randint # To generate random integer numbers within an specific range.\n",
        "\n",
        "import copy # To create deep copies\n",
        "\n",
        "# To perform a preliminary benchmark on classification algorithms\n",
        "from lazypredict.Supervised import LazyClassifier\n",
        "\n",
        "# To standarize using Z-score\n",
        "from sklearn.preprocessing import StandardScaler\n",
        "\n",
        "# To split data into train and test sets\n",
        "from sklearn.model_selection import train_test_split\n",
        "\n",
        "# Algorithms to be used\n",
        "\n",
        "from sklearn.naive_bayes import BernoulliNB\n",
        "from lightgbm import LGBMClassifier\n",
        "from sklearn import tree\n",
        "from sklearn.tree import DecisionTreeClassifier, ExtraTreeClassifier\n",
        "from sklearn.linear_model import LogisticRegression\n",
        "from sklearn.ensemble import RandomForestClassifier\n",
        "from sklearn.svm import SVC\n",
        "from sklearn.neighbors import NearestCentroid\n",
        "\n",
        "# To perform Recursive Feature Elimination\n",
        "from sklearn.feature_selection import RFE\n",
        "\n",
        "# Metrics to evaluate the model\n",
        "from sklearn import metrics\n",
        "from sklearn.metrics import classification_report, confusion_matrix, recall_score, precision_score, accuracy_score\n",
        "\n",
        "# To split the dataset\n",
        "from sklearn.model_selection import train_test_split, cross_val_score\n",
        "\n",
        "# For tuning the model\n",
        "from hyperopt import tpe, hp\n",
        "from hpsklearn import HyperoptEstimator, random_forest_classifier, lightgbm_classification, bernoulli_nb, random_forest_classifier, any_classifier, any_preprocessing\n",
        "\n",
        "# For ensemble methods\n",
        "from sklearn.ensemble import StackingClassifier, VotingClassifier # Stacking and Voting approaches\n",
        "from sklearn.feature_selection import SelectKBest, chi2 # To select the best features\n",
        "\n",
        "# To ignore warnings\n",
        "import warnings\n",
        "warnings.filterwarnings(\"ignore\")\n",
        "\n",
        "import contextlib\n",
        "import sys # To interact with the system\n",
        "import os # To interact with OS\n",
        "import time # To measure time\n",
        "\n",
        "pd.set_option('display.max_columns', None) # Allow to visualize all columns\n",
        "pd.set_option('display.max_rows', None) # Allow to visualize all rows"
      ],
      "metadata": {
        "id": "2awrHVikOg0I"
      },
      "execution_count": null,
      "outputs": []
    },
    {
      "cell_type": "code",
      "execution_count": null,
      "metadata": {
        "colab": {
          "base_uri": "https://localhost:8080/"
        },
        "id": "E-QBF7JYnfcE",
        "outputId": "4f967273-ddd2-43b0-c425-81bb7c49c17c"
      },
      "outputs": [
        {
          "output_type": "stream",
          "name": "stdout",
          "text": [
            "89\n"
          ]
        }
      ],
      "source": [
        "seed = 89 # This seed has been chosen from a run of LazyClassifier in the Preliminary Classification Algorithm Benchmark. Such seed is related to the maximum recall value for the best algorithm.\n",
        "#seed = randint(1000, 9999) # To generate a random seed\n",
        "print(seed) # We print the value of seed"
      ]
    },
    {
      "cell_type": "code",
      "execution_count": null,
      "metadata": {
        "id": "BoQAPgdocQ1f"
      },
      "outputs": [],
      "source": [
        "# Loading the dataset\n",
        "df = pd.read_csv(\"ACME-HappinessSurvey2020.csv\")"
      ]
    },
    {
      "cell_type": "code",
      "execution_count": null,
      "metadata": {
        "colab": {
          "base_uri": "https://localhost:8080/",
          "height": 206
        },
        "id": "J-eXi6oacbAX",
        "outputId": "5454e0b7-d2a3-4c79-e90b-64e3fee9259d"
      },
      "outputs": [
        {
          "output_type": "execute_result",
          "data": {
            "text/plain": [
              "   Y  X1  X2  X3  X4  X5  X6\n",
              "0  0   3   3   3   4   2   4\n",
              "1  0   3   2   3   5   4   3\n",
              "2  1   5   3   3   3   3   5\n",
              "3  0   5   4   3   3   3   5\n",
              "4  0   5   4   3   3   3   5"
            ],
            "text/html": [
              "\n",
              "  <div id=\"df-6cb884da-09ad-4693-856c-6acd41db67e4\" class=\"colab-df-container\">\n",
              "    <div>\n",
              "<style scoped>\n",
              "    .dataframe tbody tr th:only-of-type {\n",
              "        vertical-align: middle;\n",
              "    }\n",
              "\n",
              "    .dataframe tbody tr th {\n",
              "        vertical-align: top;\n",
              "    }\n",
              "\n",
              "    .dataframe thead th {\n",
              "        text-align: right;\n",
              "    }\n",
              "</style>\n",
              "<table border=\"1\" class=\"dataframe\">\n",
              "  <thead>\n",
              "    <tr style=\"text-align: right;\">\n",
              "      <th></th>\n",
              "      <th>Y</th>\n",
              "      <th>X1</th>\n",
              "      <th>X2</th>\n",
              "      <th>X3</th>\n",
              "      <th>X4</th>\n",
              "      <th>X5</th>\n",
              "      <th>X6</th>\n",
              "    </tr>\n",
              "  </thead>\n",
              "  <tbody>\n",
              "    <tr>\n",
              "      <th>0</th>\n",
              "      <td>0</td>\n",
              "      <td>3</td>\n",
              "      <td>3</td>\n",
              "      <td>3</td>\n",
              "      <td>4</td>\n",
              "      <td>2</td>\n",
              "      <td>4</td>\n",
              "    </tr>\n",
              "    <tr>\n",
              "      <th>1</th>\n",
              "      <td>0</td>\n",
              "      <td>3</td>\n",
              "      <td>2</td>\n",
              "      <td>3</td>\n",
              "      <td>5</td>\n",
              "      <td>4</td>\n",
              "      <td>3</td>\n",
              "    </tr>\n",
              "    <tr>\n",
              "      <th>2</th>\n",
              "      <td>1</td>\n",
              "      <td>5</td>\n",
              "      <td>3</td>\n",
              "      <td>3</td>\n",
              "      <td>3</td>\n",
              "      <td>3</td>\n",
              "      <td>5</td>\n",
              "    </tr>\n",
              "    <tr>\n",
              "      <th>3</th>\n",
              "      <td>0</td>\n",
              "      <td>5</td>\n",
              "      <td>4</td>\n",
              "      <td>3</td>\n",
              "      <td>3</td>\n",
              "      <td>3</td>\n",
              "      <td>5</td>\n",
              "    </tr>\n",
              "    <tr>\n",
              "      <th>4</th>\n",
              "      <td>0</td>\n",
              "      <td>5</td>\n",
              "      <td>4</td>\n",
              "      <td>3</td>\n",
              "      <td>3</td>\n",
              "      <td>3</td>\n",
              "      <td>5</td>\n",
              "    </tr>\n",
              "  </tbody>\n",
              "</table>\n",
              "</div>\n",
              "    <div class=\"colab-df-buttons\">\n",
              "\n",
              "  <div class=\"colab-df-container\">\n",
              "    <button class=\"colab-df-convert\" onclick=\"convertToInteractive('df-6cb884da-09ad-4693-856c-6acd41db67e4')\"\n",
              "            title=\"Convert this dataframe to an interactive table.\"\n",
              "            style=\"display:none;\">\n",
              "\n",
              "  <svg xmlns=\"http://www.w3.org/2000/svg\" height=\"24px\" viewBox=\"0 -960 960 960\">\n",
              "    <path d=\"M120-120v-720h720v720H120Zm60-500h600v-160H180v160Zm220 220h160v-160H400v160Zm0 220h160v-160H400v160ZM180-400h160v-160H180v160Zm440 0h160v-160H620v160ZM180-180h160v-160H180v160Zm440 0h160v-160H620v160Z\"/>\n",
              "  </svg>\n",
              "    </button>\n",
              "\n",
              "  <style>\n",
              "    .colab-df-container {\n",
              "      display:flex;\n",
              "      gap: 12px;\n",
              "    }\n",
              "\n",
              "    .colab-df-convert {\n",
              "      background-color: #E8F0FE;\n",
              "      border: none;\n",
              "      border-radius: 50%;\n",
              "      cursor: pointer;\n",
              "      display: none;\n",
              "      fill: #1967D2;\n",
              "      height: 32px;\n",
              "      padding: 0 0 0 0;\n",
              "      width: 32px;\n",
              "    }\n",
              "\n",
              "    .colab-df-convert:hover {\n",
              "      background-color: #E2EBFA;\n",
              "      box-shadow: 0px 1px 2px rgba(60, 64, 67, 0.3), 0px 1px 3px 1px rgba(60, 64, 67, 0.15);\n",
              "      fill: #174EA6;\n",
              "    }\n",
              "\n",
              "    .colab-df-buttons div {\n",
              "      margin-bottom: 4px;\n",
              "    }\n",
              "\n",
              "    [theme=dark] .colab-df-convert {\n",
              "      background-color: #3B4455;\n",
              "      fill: #D2E3FC;\n",
              "    }\n",
              "\n",
              "    [theme=dark] .colab-df-convert:hover {\n",
              "      background-color: #434B5C;\n",
              "      box-shadow: 0px 1px 3px 1px rgba(0, 0, 0, 0.15);\n",
              "      filter: drop-shadow(0px 1px 2px rgba(0, 0, 0, 0.3));\n",
              "      fill: #FFFFFF;\n",
              "    }\n",
              "  </style>\n",
              "\n",
              "    <script>\n",
              "      const buttonEl =\n",
              "        document.querySelector('#df-6cb884da-09ad-4693-856c-6acd41db67e4 button.colab-df-convert');\n",
              "      buttonEl.style.display =\n",
              "        google.colab.kernel.accessAllowed ? 'block' : 'none';\n",
              "\n",
              "      async function convertToInteractive(key) {\n",
              "        const element = document.querySelector('#df-6cb884da-09ad-4693-856c-6acd41db67e4');\n",
              "        const dataTable =\n",
              "          await google.colab.kernel.invokeFunction('convertToInteractive',\n",
              "                                                    [key], {});\n",
              "        if (!dataTable) return;\n",
              "\n",
              "        const docLinkHtml = 'Like what you see? Visit the ' +\n",
              "          '<a target=\"_blank\" href=https://colab.research.google.com/notebooks/data_table.ipynb>data table notebook</a>'\n",
              "          + ' to learn more about interactive tables.';\n",
              "        element.innerHTML = '';\n",
              "        dataTable['output_type'] = 'display_data';\n",
              "        await google.colab.output.renderOutput(dataTable, element);\n",
              "        const docLink = document.createElement('div');\n",
              "        docLink.innerHTML = docLinkHtml;\n",
              "        element.appendChild(docLink);\n",
              "      }\n",
              "    </script>\n",
              "  </div>\n",
              "\n",
              "\n",
              "<div id=\"df-253e2ffe-d500-4727-8de0-8f4ce73bc777\">\n",
              "  <button class=\"colab-df-quickchart\" onclick=\"quickchart('df-253e2ffe-d500-4727-8de0-8f4ce73bc777')\"\n",
              "            title=\"Suggest charts\"\n",
              "            style=\"display:none;\">\n",
              "\n",
              "<svg xmlns=\"http://www.w3.org/2000/svg\" height=\"24px\"viewBox=\"0 0 24 24\"\n",
              "     width=\"24px\">\n",
              "    <g>\n",
              "        <path d=\"M19 3H5c-1.1 0-2 .9-2 2v14c0 1.1.9 2 2 2h14c1.1 0 2-.9 2-2V5c0-1.1-.9-2-2-2zM9 17H7v-7h2v7zm4 0h-2V7h2v10zm4 0h-2v-4h2v4z\"/>\n",
              "    </g>\n",
              "</svg>\n",
              "  </button>\n",
              "\n",
              "<style>\n",
              "  .colab-df-quickchart {\n",
              "      --bg-color: #E8F0FE;\n",
              "      --fill-color: #1967D2;\n",
              "      --hover-bg-color: #E2EBFA;\n",
              "      --hover-fill-color: #174EA6;\n",
              "      --disabled-fill-color: #AAA;\n",
              "      --disabled-bg-color: #DDD;\n",
              "  }\n",
              "\n",
              "  [theme=dark] .colab-df-quickchart {\n",
              "      --bg-color: #3B4455;\n",
              "      --fill-color: #D2E3FC;\n",
              "      --hover-bg-color: #434B5C;\n",
              "      --hover-fill-color: #FFFFFF;\n",
              "      --disabled-bg-color: #3B4455;\n",
              "      --disabled-fill-color: #666;\n",
              "  }\n",
              "\n",
              "  .colab-df-quickchart {\n",
              "    background-color: var(--bg-color);\n",
              "    border: none;\n",
              "    border-radius: 50%;\n",
              "    cursor: pointer;\n",
              "    display: none;\n",
              "    fill: var(--fill-color);\n",
              "    height: 32px;\n",
              "    padding: 0;\n",
              "    width: 32px;\n",
              "  }\n",
              "\n",
              "  .colab-df-quickchart:hover {\n",
              "    background-color: var(--hover-bg-color);\n",
              "    box-shadow: 0 1px 2px rgba(60, 64, 67, 0.3), 0 1px 3px 1px rgba(60, 64, 67, 0.15);\n",
              "    fill: var(--button-hover-fill-color);\n",
              "  }\n",
              "\n",
              "  .colab-df-quickchart-complete:disabled,\n",
              "  .colab-df-quickchart-complete:disabled:hover {\n",
              "    background-color: var(--disabled-bg-color);\n",
              "    fill: var(--disabled-fill-color);\n",
              "    box-shadow: none;\n",
              "  }\n",
              "\n",
              "  .colab-df-spinner {\n",
              "    border: 2px solid var(--fill-color);\n",
              "    border-color: transparent;\n",
              "    border-bottom-color: var(--fill-color);\n",
              "    animation:\n",
              "      spin 1s steps(1) infinite;\n",
              "  }\n",
              "\n",
              "  @keyframes spin {\n",
              "    0% {\n",
              "      border-color: transparent;\n",
              "      border-bottom-color: var(--fill-color);\n",
              "      border-left-color: var(--fill-color);\n",
              "    }\n",
              "    20% {\n",
              "      border-color: transparent;\n",
              "      border-left-color: var(--fill-color);\n",
              "      border-top-color: var(--fill-color);\n",
              "    }\n",
              "    30% {\n",
              "      border-color: transparent;\n",
              "      border-left-color: var(--fill-color);\n",
              "      border-top-color: var(--fill-color);\n",
              "      border-right-color: var(--fill-color);\n",
              "    }\n",
              "    40% {\n",
              "      border-color: transparent;\n",
              "      border-right-color: var(--fill-color);\n",
              "      border-top-color: var(--fill-color);\n",
              "    }\n",
              "    60% {\n",
              "      border-color: transparent;\n",
              "      border-right-color: var(--fill-color);\n",
              "    }\n",
              "    80% {\n",
              "      border-color: transparent;\n",
              "      border-right-color: var(--fill-color);\n",
              "      border-bottom-color: var(--fill-color);\n",
              "    }\n",
              "    90% {\n",
              "      border-color: transparent;\n",
              "      border-bottom-color: var(--fill-color);\n",
              "    }\n",
              "  }\n",
              "</style>\n",
              "\n",
              "  <script>\n",
              "    async function quickchart(key) {\n",
              "      const quickchartButtonEl =\n",
              "        document.querySelector('#' + key + ' button');\n",
              "      quickchartButtonEl.disabled = true;  // To prevent multiple clicks.\n",
              "      quickchartButtonEl.classList.add('colab-df-spinner');\n",
              "      try {\n",
              "        const charts = await google.colab.kernel.invokeFunction(\n",
              "            'suggestCharts', [key], {});\n",
              "      } catch (error) {\n",
              "        console.error('Error during call to suggestCharts:', error);\n",
              "      }\n",
              "      quickchartButtonEl.classList.remove('colab-df-spinner');\n",
              "      quickchartButtonEl.classList.add('colab-df-quickchart-complete');\n",
              "    }\n",
              "    (() => {\n",
              "      let quickchartButtonEl =\n",
              "        document.querySelector('#df-253e2ffe-d500-4727-8de0-8f4ce73bc777 button');\n",
              "      quickchartButtonEl.style.display =\n",
              "        google.colab.kernel.accessAllowed ? 'block' : 'none';\n",
              "    })();\n",
              "  </script>\n",
              "</div>\n",
              "\n",
              "    </div>\n",
              "  </div>\n"
            ],
            "application/vnd.google.colaboratory.intrinsic+json": {
              "type": "dataframe",
              "variable_name": "df",
              "summary": "{\n  \"name\": \"df\",\n  \"rows\": 126,\n  \"fields\": [\n    {\n      \"column\": \"Y\",\n      \"properties\": {\n        \"dtype\": \"number\",\n        \"std\": 0,\n        \"min\": 0,\n        \"max\": 1,\n        \"num_unique_values\": 2,\n        \"samples\": [\n          1,\n          0\n        ],\n        \"semantic_type\": \"\",\n        \"description\": \"\"\n      }\n    },\n    {\n      \"column\": \"X1\",\n      \"properties\": {\n        \"dtype\": \"number\",\n        \"std\": 0,\n        \"min\": 1,\n        \"max\": 5,\n        \"num_unique_values\": 4,\n        \"samples\": [\n          5,\n          1\n        ],\n        \"semantic_type\": \"\",\n        \"description\": \"\"\n      }\n    },\n    {\n      \"column\": \"X2\",\n      \"properties\": {\n        \"dtype\": \"number\",\n        \"std\": 1,\n        \"min\": 1,\n        \"max\": 5,\n        \"num_unique_values\": 5,\n        \"samples\": [\n          2,\n          1\n        ],\n        \"semantic_type\": \"\",\n        \"description\": \"\"\n      }\n    },\n    {\n      \"column\": \"X3\",\n      \"properties\": {\n        \"dtype\": \"number\",\n        \"std\": 1,\n        \"min\": 1,\n        \"max\": 5,\n        \"num_unique_values\": 5,\n        \"samples\": [\n          2,\n          1\n        ],\n        \"semantic_type\": \"\",\n        \"description\": \"\"\n      }\n    },\n    {\n      \"column\": \"X4\",\n      \"properties\": {\n        \"dtype\": \"number\",\n        \"std\": 0,\n        \"min\": 1,\n        \"max\": 5,\n        \"num_unique_values\": 5,\n        \"samples\": [\n          5,\n          1\n        ],\n        \"semantic_type\": \"\",\n        \"description\": \"\"\n      }\n    },\n    {\n      \"column\": \"X5\",\n      \"properties\": {\n        \"dtype\": \"number\",\n        \"std\": 1,\n        \"min\": 1,\n        \"max\": 5,\n        \"num_unique_values\": 5,\n        \"samples\": [\n          4,\n          1\n        ],\n        \"semantic_type\": \"\",\n        \"description\": \"\"\n      }\n    },\n    {\n      \"column\": \"X6\",\n      \"properties\": {\n        \"dtype\": \"number\",\n        \"std\": 0,\n        \"min\": 1,\n        \"max\": 5,\n        \"num_unique_values\": 5,\n        \"samples\": [\n          3,\n          1\n        ],\n        \"semantic_type\": \"\",\n        \"description\": \"\"\n      }\n    }\n  ]\n}"
            }
          },
          "metadata": {},
          "execution_count": 12
        }
      ],
      "source": [
        "# Looking the first 5 records\n",
        "df.head()"
      ]
    },
    {
      "cell_type": "markdown",
      "metadata": {
        "id": "orlup-75cmxv"
      },
      "source": [
        "## **Checking the info in the dataset**"
      ]
    },
    {
      "cell_type": "code",
      "execution_count": null,
      "metadata": {
        "colab": {
          "base_uri": "https://localhost:8080/"
        },
        "id": "85o_-XiZcpcA",
        "outputId": "acdba6cb-93cc-4e26-da4a-0816069e996f"
      },
      "outputs": [
        {
          "output_type": "stream",
          "name": "stdout",
          "text": [
            "<class 'pandas.core.frame.DataFrame'>\n",
            "RangeIndex: 126 entries, 0 to 125\n",
            "Data columns (total 7 columns):\n",
            " #   Column  Non-Null Count  Dtype\n",
            "---  ------  --------------  -----\n",
            " 0   Y       126 non-null    int64\n",
            " 1   X1      126 non-null    int64\n",
            " 2   X2      126 non-null    int64\n",
            " 3   X3      126 non-null    int64\n",
            " 4   X4      126 non-null    int64\n",
            " 5   X5      126 non-null    int64\n",
            " 6   X6      126 non-null    int64\n",
            "dtypes: int64(7)\n",
            "memory usage: 7.0 KB\n"
          ]
        }
      ],
      "source": [
        "# Let's see the info of the data\n",
        "df.info()"
      ]
    },
    {
      "cell_type": "markdown",
      "metadata": {
        "id": "tur72-vMcxlA"
      },
      "source": [
        "**Observations:**\n",
        "* There are **126 rows** and **7 columns** in the dataset.\n",
        "* There are **126 non-null values**, that means **there are no missing values.**"
      ]
    },
    {
      "cell_type": "markdown",
      "metadata": {
        "id": "R__EW0-PdmhI"
      },
      "source": [
        "**Let's check the unique values in each column**"
      ]
    },
    {
      "cell_type": "code",
      "execution_count": null,
      "metadata": {
        "colab": {
          "base_uri": "https://localhost:8080/"
        },
        "id": "wXw47aSPdp2U",
        "outputId": "f58aacf1-bce4-44bf-dfd1-1e595d42d625"
      },
      "outputs": [
        {
          "output_type": "execute_result",
          "data": {
            "text/plain": [
              "Y     2\n",
              "X1    4\n",
              "X2    5\n",
              "X3    5\n",
              "X4    5\n",
              "X5    5\n",
              "X6    5\n",
              "dtype: int64"
            ]
          },
          "metadata": {},
          "execution_count": 12
        }
      ],
      "source": [
        "# Checking the count of unique values in each columns\n",
        "df.nunique()"
      ]
    },
    {
      "cell_type": "markdown",
      "metadata": {
        "id": "6ZI-NPsqd4q5"
      },
      "source": [
        "**Observations:**\n",
        "* Y is the prediction variable. As indicated in the dataset description, it has 2 possible values.\n",
        "* X1 (order delivered on time) has 4 possible values, while X2, X3, X4, X5 and X6 have 5 possible values. It seems they are measured in Likert scale.\n",
        "* The variables X1 to X6 seem to be categorical, ordinal variables."
      ]
    },
    {
      "cell_type": "markdown",
      "metadata": {
        "id": "lcSdv-NPfJHk"
      },
      "source": [
        "## **Exploratory Data Analysis**"
      ]
    },
    {
      "cell_type": "markdown",
      "metadata": {
        "id": "zH5I2lEPfaKt"
      },
      "source": [
        "## **Univariate Analysis**"
      ]
    },
    {
      "cell_type": "code",
      "execution_count": null,
      "metadata": {
        "colab": {
          "base_uri": "https://localhost:8080/"
        },
        "id": "CvTxaeXVfdXE",
        "outputId": "b269261f-b684-4dfc-e50a-f6f480c15c32"
      },
      "outputs": [
        {
          "output_type": "stream",
          "name": "stdout",
          "text": [
            "Y\n",
            "1   0.55\n",
            "0   0.45\n",
            "Name: proportion, dtype: float64\n",
            "****************************************\n",
            "X1\n",
            "5   0.52\n",
            "4   0.32\n",
            "3   0.16\n",
            "1   0.01\n",
            "Name: proportion, dtype: float64\n",
            "****************************************\n",
            "X2\n",
            "3   0.33\n",
            "2   0.27\n",
            "1   0.21\n",
            "4   0.13\n",
            "5   0.05\n",
            "Name: proportion, dtype: float64\n",
            "****************************************\n",
            "X3\n",
            "3   0.44\n",
            "4   0.26\n",
            "5   0.13\n",
            "2   0.11\n",
            "1   0.06\n",
            "Name: proportion, dtype: float64\n",
            "****************************************\n",
            "X4\n",
            "4   0.42\n",
            "3   0.33\n",
            "5   0.20\n",
            "2   0.04\n",
            "1   0.02\n",
            "Name: proportion, dtype: float64\n",
            "****************************************\n",
            "X5\n",
            "4   0.40\n",
            "5   0.25\n",
            "3   0.17\n",
            "2   0.13\n",
            "1   0.06\n",
            "Name: proportion, dtype: float64\n",
            "****************************************\n",
            "X6\n",
            "5   0.45\n",
            "4   0.37\n",
            "3   0.16\n",
            "2   0.01\n",
            "1   0.01\n",
            "Name: proportion, dtype: float64\n",
            "****************************************\n"
          ]
        }
      ],
      "source": [
        "cat_cols = ['Y', 'X1', 'X2', 'X3', 'X4', 'X5', 'X6']\n",
        "for col in cat_cols:\n",
        "  print(df[col].value_counts(normalize = True))\n",
        "  print('*'*40)"
      ]
    },
    {
      "cell_type": "markdown",
      "metadata": {
        "id": "676gWwp1iF4o"
      },
      "source": [
        "**Observations:**\n",
        "\n",
        "* ~ 55% of the customers in the survey sample claimed to be happy.\n",
        "* About 52% of the customers answered 5 (the closest to the answer) to X1 (*my order was delivered on time*). Approximately 31% answered 4 to the same question.\n",
        "* The most popular answer to X2 (*Contents of my order was as I expected*) is 3, and it accounts for ~ 33% of the customers. It is followed by 2 (~ 27%) and 1 (~ 21%). The least popular answer was 5 (~ 5%): it seems like there is a problem related with the condition of the order once opened.\n",
        "* The most popular answer to X3 (*I ordered everything I wanted to order*) was 3 (~ 44%), followed by 4 (26%) and 5 (~ 13%). The question seems to be related to the available stock when the order was submitted, or the availability of a certain item.\n",
        "* X4 (*I paid a good price for my order*) has the most popular answer at value 4 (~ 42%), followed by 3 (~ 33%) and 5 (~ 20%).\n",
        "* The most popular answer to X5 (*I am satisfied with my courier*) is 4 (~ 40%), followed by 5 (~ 25%).\n",
        "* The most popular answer to X6 (*The app makes ordering easy for me*) is 5 (~ 45%) followed by 4 (~ 37%)."
      ]
    },
    {
      "cell_type": "markdown",
      "metadata": {
        "id": "LgevFGZzIktv"
      },
      "source": [
        "## **Model Building Approach**\n",
        "\n",
        "1. Data Preparation\n",
        "2. Partition the data into train and test set.\n",
        "3. Build a model on the train data.\n",
        "4. Tune the model if required.\n",
        "5. Test the data on the test set."
      ]
    },
    {
      "cell_type": "markdown",
      "metadata": {
        "id": "844IW6llNx8V"
      },
      "source": [
        "## **Data Preparation**\n"
      ]
    },
    {
      "cell_type": "markdown",
      "metadata": {
        "id": "MzaavVxgOq2i"
      },
      "source": [
        "**Separating the independent variables (X) and the dependent variable (Y)**\n"
      ]
    },
    {
      "cell_type": "code",
      "execution_count": null,
      "metadata": {
        "id": "edHBwkviO0oU"
      },
      "outputs": [],
      "source": [
        "# Separating the target variable and other variables\n",
        "Y = df.Y\n",
        "X = df.drop(['Y'], axis = 1)"
      ]
    },
    {
      "cell_type": "markdown",
      "metadata": {
        "id": "K5zFQSQ-P6bl"
      },
      "source": [
        "**Splitting the data into 70% train and 30% test set.**"
      ]
    },
    {
      "cell_type": "code",
      "execution_count": null,
      "metadata": {
        "id": "EBPELesVQAw-"
      },
      "outputs": [],
      "source": [
        "# Splitting the data\n",
        "x_train, x_test, y_train, y_test = train_test_split(X, Y, test_size = 0.2, random_state = seed, stratify = Y)"
      ]
    },
    {
      "cell_type": "markdown",
      "metadata": {
        "id": "01UPi_zRJpj8"
      },
      "source": [
        "## **Model Evaluation Criterion**\n",
        "\n",
        "**The model can make two types of wrong predicions:**\n",
        "\n",
        "1. Predicting a customer will be happy when the customer is **unhappy.**\n",
        "2. Preddicting a customer will be unhappy when the customer is **happy**.\n",
        "\n",
        "**Which case is more important?**\n",
        "* **Predicting that the customer will be happy but the customer is unhappy indeed,** that means possibly losing a customer, and any future order from it. This can be translated in financial loses, hence it is the most important case of wrong predictions.\n",
        "\n",
        "**How to reduce this loss? (False positives)**\n",
        "\n",
        "* **The company would want the Recall to be maximized,** the greater the recall, the higher the chances of minimizing false positives. Hence, the focus should be on increasing the Recall (minimizing the false positives): in other words, identifying the true negatives (class 0) very well, so that the company can run continuous improvement in its processes to foster customer satisfaction.\n"
      ]
    },
    {
      "cell_type": "markdown",
      "metadata": {
        "id": "1z1FwrLQ3in_"
      },
      "source": [
        "## **Preliminary Classification Algorithm Benchmark**"
      ]
    },
    {
      "cell_type": "markdown",
      "source": [
        "We will run LazyClassifier using different seed values for each classifier. Recall for class 0 for all iterations on each classifier will be averaged, also the maximum recall value will be recorded. With this we are seeking for a potential seed associated with a high-performing classifier."
      ],
      "metadata": {
        "id": "xkc3cYM5y31e"
      }
    },
    {
      "cell_type": "code",
      "execution_count": null,
      "metadata": {
        "id": "Jnpdqn6e7lCh"
      },
      "outputs": [],
      "source": [
        "# Redirect standard output and errors\n",
        "@contextlib.contextmanager\n",
        "def suppress_output():\n",
        "    with open(os.devnull, 'w') as fnull:\n",
        "        old_stdout = sys.stdout\n",
        "        old_stderr = sys.stderr\n",
        "        sys.stdout = fnull\n",
        "        sys.stderr = fnull\n",
        "        try:\n",
        "            yield\n",
        "        finally:\n",
        "            sys.stdout = old_stdout\n",
        "            sys.stderr = old_stderr\n",
        "\n",
        "# Starts measuring time\n",
        "start_time = time.time()\n",
        "\n",
        "# We will iterate on different values of seeds to get an average recall for each model\n",
        "seeds = np.arange(0, 100)\n",
        "\n",
        "# Run to get a list of models\n",
        "with suppress_output(): # We use this function to suppress the output of algorithms that manage their own verbose parameter\n",
        "  clf_initial = LazyClassifier(verbose=0, ignore_warnings=True, custom_metric=None) # Launch LazyClassifier\n",
        "\n",
        "# Here we split the dataframe into train and test datasets\n",
        "x_train_initial, x_test_initial, y_train_initial, y_test_initial = train_test_split(X, Y, test_size=0.2, random_state=0, stratify=Y)\n",
        "\n",
        "# We make an initial fit to get the initial list of classifier algorithms\n",
        "with suppress_output():\n",
        "  clf_initial.fit(x_train_initial, x_test_initial, y_train_initial, y_test_initial)"
      ]
    },
    {
      "cell_type": "code",
      "source": [
        "# Initialize recall_scores with model names\n",
        "recall_scores = {model_name: [] for model_name in clf_initial.models.keys()}\n",
        "max_seeds = {model_name: None for model_name in clf_initial.models.keys()}\n",
        "max_recalls = {model_name: -np.inf for model_name in clf_initial.models.keys()}\n",
        "\n",
        "\n",
        "for seed1 in seeds:\n",
        "  with suppress_output(): # Suppress output during processing\n",
        "    clf = LazyClassifier(verbose = 0, ignore_warnings = True, custom_metric = None) # Launch LazyClassifier\n",
        "  # For each iteration, we will make a train-test split according to the value of the current seed\n",
        "  x_train_seed, x_test_seed, y_train_seed, y_test_seed = train_test_split(X, Y, test_size = 0.2, random_state = seed1, stratify = Y)\n",
        "  with suppress_output(): # Suppress output during processing\n",
        "    models, predictions = clf.fit(x_train_seed, x_test_seed, y_train_seed, y_test_seed) # Fitting on the train set.\n",
        "\n",
        "    for model_name, model in clf.models.items(): # We iterate on each model from the Lazyclassifier instance\n",
        "      with suppress_output(): # Suppress output during processing\n",
        "        y_pred = model.predict(x_test_seed) # Predicting on the test set\n",
        "        recall = recall_score(y_test_seed, y_pred, average = None) # To compute recall\n",
        "        recall_scores[model_name].append(recall)  # Append the recall score to the list\n",
        "\n",
        "      # Extract recall of class zero\n",
        "      recall_class_zero = recall[0] # We extract the recall value of the first position of the array\n",
        "      if recall_class_zero > max_recalls[model_name]: # Keep track on updated maximum recall of class zero\n",
        "        max_recalls[model_name] = recall_class_zero # Update new maximum recall of class zero\n",
        "        max_seeds[model_name] = seed1 # Record the seed related to this maximum recall.\n",
        "\n",
        "# Average the performance metrics\n",
        "average_recalls = {model: np.mean(scores) for model, scores, in recall_scores.items()}\n",
        "stddev_recalls = {model: np.std(scores) for model, scores, in recall_scores.items()}\n",
        "\n",
        "models_df = pd.DataFrame(models)\n",
        "models_df['Recall_average_class0'] = models_df.index.map(average_recalls)\n",
        "models_df['Recall_std_class0'] = models_df.index.map(stddev_recalls)\n",
        "models_df['Recall_max_class0'] = models_df.index.map(max_recalls)\n",
        "models_df['Seed_max_recall'] = models_df.index.map(max_seeds)\n",
        "\n",
        "# Stop measuring time\n",
        "end_time = time.time()\n"
      ],
      "metadata": {
        "id": "iaezFKkwdPxg"
      },
      "execution_count": null,
      "outputs": []
    },
    {
      "cell_type": "code",
      "source": [
        "# Calculate execution time\n",
        "execution_time = end_time - start_time\n",
        "print(\"Execution time: {:.2f} seconds\".format(execution_time))\n",
        "\n",
        "# We will sort the models by average recall of class 0\n",
        "models_df.sort_values(by = 'Recall_average_class0', ascending = False, inplace = True)\n",
        "\n",
        "# Show the top 3 performing classifiers\n",
        "models_df.head(3)"
      ],
      "metadata": {
        "colab": {
          "base_uri": "https://localhost:8080/",
          "height": 231
        },
        "id": "KMBsioHyo9hO",
        "outputId": "8dc535aa-a588-4816-9d91-2a1a1e4a95b5"
      },
      "execution_count": null,
      "outputs": [
        {
          "output_type": "stream",
          "name": "stdout",
          "text": [
            "Execution time: 79.53 seconds\n"
          ]
        },
        {
          "output_type": "execute_result",
          "data": {
            "text/plain": [
              "                        Accuracy  Balanced Accuracy  ROC AUC  F1 Score  \\\n",
              "Model                                                                    \n",
              "BernoulliNB                 0.50               0.49     0.49      0.50   \n",
              "LGBMClassifier              0.58               0.58     0.58      0.58   \n",
              "RandomForestClassifier      0.58               0.58     0.58      0.58   \n",
              "\n",
              "                        Time Taken  Recall_average_class0  Recall_std_class0  \\\n",
              "Model                                                                          \n",
              "BernoulliNB                   0.01                   0.61               0.14   \n",
              "LGBMClassifier                0.02                   0.60               0.15   \n",
              "RandomForestClassifier        0.10                   0.58               0.17   \n",
              "\n",
              "                        Recall_max_class0  Seed_max_recall  \n",
              "Model                                                       \n",
              "BernoulliNB                          0.92               89  \n",
              "LGBMClassifier                       0.92               25  \n",
              "RandomForestClassifier               0.83               83  "
            ],
            "text/html": [
              "\n",
              "  <div id=\"df-b4c75ad8-7e65-4c6d-b9ee-d4fbdc92c477\" class=\"colab-df-container\">\n",
              "    <div>\n",
              "<style scoped>\n",
              "    .dataframe tbody tr th:only-of-type {\n",
              "        vertical-align: middle;\n",
              "    }\n",
              "\n",
              "    .dataframe tbody tr th {\n",
              "        vertical-align: top;\n",
              "    }\n",
              "\n",
              "    .dataframe thead th {\n",
              "        text-align: right;\n",
              "    }\n",
              "</style>\n",
              "<table border=\"1\" class=\"dataframe\">\n",
              "  <thead>\n",
              "    <tr style=\"text-align: right;\">\n",
              "      <th></th>\n",
              "      <th>Accuracy</th>\n",
              "      <th>Balanced Accuracy</th>\n",
              "      <th>ROC AUC</th>\n",
              "      <th>F1 Score</th>\n",
              "      <th>Time Taken</th>\n",
              "      <th>Recall_average_class0</th>\n",
              "      <th>Recall_std_class0</th>\n",
              "      <th>Recall_max_class0</th>\n",
              "      <th>Seed_max_recall</th>\n",
              "    </tr>\n",
              "    <tr>\n",
              "      <th>Model</th>\n",
              "      <th></th>\n",
              "      <th></th>\n",
              "      <th></th>\n",
              "      <th></th>\n",
              "      <th></th>\n",
              "      <th></th>\n",
              "      <th></th>\n",
              "      <th></th>\n",
              "      <th></th>\n",
              "    </tr>\n",
              "  </thead>\n",
              "  <tbody>\n",
              "    <tr>\n",
              "      <th>BernoulliNB</th>\n",
              "      <td>0.50</td>\n",
              "      <td>0.49</td>\n",
              "      <td>0.49</td>\n",
              "      <td>0.50</td>\n",
              "      <td>0.01</td>\n",
              "      <td>0.61</td>\n",
              "      <td>0.14</td>\n",
              "      <td>0.92</td>\n",
              "      <td>89</td>\n",
              "    </tr>\n",
              "    <tr>\n",
              "      <th>LGBMClassifier</th>\n",
              "      <td>0.58</td>\n",
              "      <td>0.58</td>\n",
              "      <td>0.58</td>\n",
              "      <td>0.58</td>\n",
              "      <td>0.02</td>\n",
              "      <td>0.60</td>\n",
              "      <td>0.15</td>\n",
              "      <td>0.92</td>\n",
              "      <td>25</td>\n",
              "    </tr>\n",
              "    <tr>\n",
              "      <th>RandomForestClassifier</th>\n",
              "      <td>0.58</td>\n",
              "      <td>0.58</td>\n",
              "      <td>0.58</td>\n",
              "      <td>0.58</td>\n",
              "      <td>0.10</td>\n",
              "      <td>0.58</td>\n",
              "      <td>0.17</td>\n",
              "      <td>0.83</td>\n",
              "      <td>83</td>\n",
              "    </tr>\n",
              "  </tbody>\n",
              "</table>\n",
              "</div>\n",
              "    <div class=\"colab-df-buttons\">\n",
              "\n",
              "  <div class=\"colab-df-container\">\n",
              "    <button class=\"colab-df-convert\" onclick=\"convertToInteractive('df-b4c75ad8-7e65-4c6d-b9ee-d4fbdc92c477')\"\n",
              "            title=\"Convert this dataframe to an interactive table.\"\n",
              "            style=\"display:none;\">\n",
              "\n",
              "  <svg xmlns=\"http://www.w3.org/2000/svg\" height=\"24px\" viewBox=\"0 -960 960 960\">\n",
              "    <path d=\"M120-120v-720h720v720H120Zm60-500h600v-160H180v160Zm220 220h160v-160H400v160Zm0 220h160v-160H400v160ZM180-400h160v-160H180v160Zm440 0h160v-160H620v160ZM180-180h160v-160H180v160Zm440 0h160v-160H620v160Z\"/>\n",
              "  </svg>\n",
              "    </button>\n",
              "\n",
              "  <style>\n",
              "    .colab-df-container {\n",
              "      display:flex;\n",
              "      gap: 12px;\n",
              "    }\n",
              "\n",
              "    .colab-df-convert {\n",
              "      background-color: #E8F0FE;\n",
              "      border: none;\n",
              "      border-radius: 50%;\n",
              "      cursor: pointer;\n",
              "      display: none;\n",
              "      fill: #1967D2;\n",
              "      height: 32px;\n",
              "      padding: 0 0 0 0;\n",
              "      width: 32px;\n",
              "    }\n",
              "\n",
              "    .colab-df-convert:hover {\n",
              "      background-color: #E2EBFA;\n",
              "      box-shadow: 0px 1px 2px rgba(60, 64, 67, 0.3), 0px 1px 3px 1px rgba(60, 64, 67, 0.15);\n",
              "      fill: #174EA6;\n",
              "    }\n",
              "\n",
              "    .colab-df-buttons div {\n",
              "      margin-bottom: 4px;\n",
              "    }\n",
              "\n",
              "    [theme=dark] .colab-df-convert {\n",
              "      background-color: #3B4455;\n",
              "      fill: #D2E3FC;\n",
              "    }\n",
              "\n",
              "    [theme=dark] .colab-df-convert:hover {\n",
              "      background-color: #434B5C;\n",
              "      box-shadow: 0px 1px 3px 1px rgba(0, 0, 0, 0.15);\n",
              "      filter: drop-shadow(0px 1px 2px rgba(0, 0, 0, 0.3));\n",
              "      fill: #FFFFFF;\n",
              "    }\n",
              "  </style>\n",
              "\n",
              "    <script>\n",
              "      const buttonEl =\n",
              "        document.querySelector('#df-b4c75ad8-7e65-4c6d-b9ee-d4fbdc92c477 button.colab-df-convert');\n",
              "      buttonEl.style.display =\n",
              "        google.colab.kernel.accessAllowed ? 'block' : 'none';\n",
              "\n",
              "      async function convertToInteractive(key) {\n",
              "        const element = document.querySelector('#df-b4c75ad8-7e65-4c6d-b9ee-d4fbdc92c477');\n",
              "        const dataTable =\n",
              "          await google.colab.kernel.invokeFunction('convertToInteractive',\n",
              "                                                    [key], {});\n",
              "        if (!dataTable) return;\n",
              "\n",
              "        const docLinkHtml = 'Like what you see? Visit the ' +\n",
              "          '<a target=\"_blank\" href=https://colab.research.google.com/notebooks/data_table.ipynb>data table notebook</a>'\n",
              "          + ' to learn more about interactive tables.';\n",
              "        element.innerHTML = '';\n",
              "        dataTable['output_type'] = 'display_data';\n",
              "        await google.colab.output.renderOutput(dataTable, element);\n",
              "        const docLink = document.createElement('div');\n",
              "        docLink.innerHTML = docLinkHtml;\n",
              "        element.appendChild(docLink);\n",
              "      }\n",
              "    </script>\n",
              "  </div>\n",
              "\n",
              "\n",
              "<div id=\"df-11cea906-71ff-40fe-90d6-d7b465c1f7c5\">\n",
              "  <button class=\"colab-df-quickchart\" onclick=\"quickchart('df-11cea906-71ff-40fe-90d6-d7b465c1f7c5')\"\n",
              "            title=\"Suggest charts\"\n",
              "            style=\"display:none;\">\n",
              "\n",
              "<svg xmlns=\"http://www.w3.org/2000/svg\" height=\"24px\"viewBox=\"0 0 24 24\"\n",
              "     width=\"24px\">\n",
              "    <g>\n",
              "        <path d=\"M19 3H5c-1.1 0-2 .9-2 2v14c0 1.1.9 2 2 2h14c1.1 0 2-.9 2-2V5c0-1.1-.9-2-2-2zM9 17H7v-7h2v7zm4 0h-2V7h2v10zm4 0h-2v-4h2v4z\"/>\n",
              "    </g>\n",
              "</svg>\n",
              "  </button>\n",
              "\n",
              "<style>\n",
              "  .colab-df-quickchart {\n",
              "      --bg-color: #E8F0FE;\n",
              "      --fill-color: #1967D2;\n",
              "      --hover-bg-color: #E2EBFA;\n",
              "      --hover-fill-color: #174EA6;\n",
              "      --disabled-fill-color: #AAA;\n",
              "      --disabled-bg-color: #DDD;\n",
              "  }\n",
              "\n",
              "  [theme=dark] .colab-df-quickchart {\n",
              "      --bg-color: #3B4455;\n",
              "      --fill-color: #D2E3FC;\n",
              "      --hover-bg-color: #434B5C;\n",
              "      --hover-fill-color: #FFFFFF;\n",
              "      --disabled-bg-color: #3B4455;\n",
              "      --disabled-fill-color: #666;\n",
              "  }\n",
              "\n",
              "  .colab-df-quickchart {\n",
              "    background-color: var(--bg-color);\n",
              "    border: none;\n",
              "    border-radius: 50%;\n",
              "    cursor: pointer;\n",
              "    display: none;\n",
              "    fill: var(--fill-color);\n",
              "    height: 32px;\n",
              "    padding: 0;\n",
              "    width: 32px;\n",
              "  }\n",
              "\n",
              "  .colab-df-quickchart:hover {\n",
              "    background-color: var(--hover-bg-color);\n",
              "    box-shadow: 0 1px 2px rgba(60, 64, 67, 0.3), 0 1px 3px 1px rgba(60, 64, 67, 0.15);\n",
              "    fill: var(--button-hover-fill-color);\n",
              "  }\n",
              "\n",
              "  .colab-df-quickchart-complete:disabled,\n",
              "  .colab-df-quickchart-complete:disabled:hover {\n",
              "    background-color: var(--disabled-bg-color);\n",
              "    fill: var(--disabled-fill-color);\n",
              "    box-shadow: none;\n",
              "  }\n",
              "\n",
              "  .colab-df-spinner {\n",
              "    border: 2px solid var(--fill-color);\n",
              "    border-color: transparent;\n",
              "    border-bottom-color: var(--fill-color);\n",
              "    animation:\n",
              "      spin 1s steps(1) infinite;\n",
              "  }\n",
              "\n",
              "  @keyframes spin {\n",
              "    0% {\n",
              "      border-color: transparent;\n",
              "      border-bottom-color: var(--fill-color);\n",
              "      border-left-color: var(--fill-color);\n",
              "    }\n",
              "    20% {\n",
              "      border-color: transparent;\n",
              "      border-left-color: var(--fill-color);\n",
              "      border-top-color: var(--fill-color);\n",
              "    }\n",
              "    30% {\n",
              "      border-color: transparent;\n",
              "      border-left-color: var(--fill-color);\n",
              "      border-top-color: var(--fill-color);\n",
              "      border-right-color: var(--fill-color);\n",
              "    }\n",
              "    40% {\n",
              "      border-color: transparent;\n",
              "      border-right-color: var(--fill-color);\n",
              "      border-top-color: var(--fill-color);\n",
              "    }\n",
              "    60% {\n",
              "      border-color: transparent;\n",
              "      border-right-color: var(--fill-color);\n",
              "    }\n",
              "    80% {\n",
              "      border-color: transparent;\n",
              "      border-right-color: var(--fill-color);\n",
              "      border-bottom-color: var(--fill-color);\n",
              "    }\n",
              "    90% {\n",
              "      border-color: transparent;\n",
              "      border-bottom-color: var(--fill-color);\n",
              "    }\n",
              "  }\n",
              "</style>\n",
              "\n",
              "  <script>\n",
              "    async function quickchart(key) {\n",
              "      const quickchartButtonEl =\n",
              "        document.querySelector('#' + key + ' button');\n",
              "      quickchartButtonEl.disabled = true;  // To prevent multiple clicks.\n",
              "      quickchartButtonEl.classList.add('colab-df-spinner');\n",
              "      try {\n",
              "        const charts = await google.colab.kernel.invokeFunction(\n",
              "            'suggestCharts', [key], {});\n",
              "      } catch (error) {\n",
              "        console.error('Error during call to suggestCharts:', error);\n",
              "      }\n",
              "      quickchartButtonEl.classList.remove('colab-df-spinner');\n",
              "      quickchartButtonEl.classList.add('colab-df-quickchart-complete');\n",
              "    }\n",
              "    (() => {\n",
              "      let quickchartButtonEl =\n",
              "        document.querySelector('#df-11cea906-71ff-40fe-90d6-d7b465c1f7c5 button');\n",
              "      quickchartButtonEl.style.display =\n",
              "        google.colab.kernel.accessAllowed ? 'block' : 'none';\n",
              "    })();\n",
              "  </script>\n",
              "</div>\n",
              "\n",
              "    </div>\n",
              "  </div>\n"
            ],
            "application/vnd.google.colaboratory.intrinsic+json": {
              "type": "dataframe",
              "variable_name": "models_df",
              "summary": "{\n  \"name\": \"models_df\",\n  \"rows\": 27,\n  \"fields\": [\n    {\n      \"column\": \"Model\",\n      \"properties\": {\n        \"dtype\": \"string\",\n        \"num_unique_values\": 27,\n        \"samples\": [\n          \"ExtraTreesClassifier\",\n          \"LogisticRegression\",\n          \"ExtraTreeClassifier\"\n        ],\n        \"semantic_type\": \"\",\n        \"description\": \"\"\n      }\n    },\n    {\n      \"column\": \"Accuracy\",\n      \"properties\": {\n        \"dtype\": \"number\",\n        \"std\": 0.051813485696504874,\n        \"min\": 0.46153846153846156,\n        \"max\": 0.6923076923076923,\n        \"num_unique_values\": 7,\n        \"samples\": [\n          0.5,\n          0.5769230769230769,\n          0.46153846153846156\n        ],\n        \"semantic_type\": \"\",\n        \"description\": \"\"\n      }\n    },\n    {\n      \"column\": \"Balanced Accuracy\",\n      \"properties\": {\n        \"dtype\": \"number\",\n        \"std\": 0.05528872925504106,\n        \"min\": 0.45833333333333337,\n        \"max\": 0.6845238095238095,\n        \"num_unique_values\": 12,\n        \"samples\": [\n          0.5,\n          0.6845238095238095,\n          0.49404761904761907\n        ],\n        \"semantic_type\": \"\",\n        \"description\": \"\"\n      }\n    },\n    {\n      \"column\": \"ROC AUC\",\n      \"properties\": {\n        \"dtype\": \"number\",\n        \"std\": 0.05528872925504108,\n        \"min\": 0.45833333333333337,\n        \"max\": 0.6845238095238094,\n        \"num_unique_values\": 12,\n        \"samples\": [\n          0.5,\n          0.6845238095238094,\n          0.49404761904761896\n        ],\n        \"semantic_type\": \"\",\n        \"description\": \"\"\n      }\n    },\n    {\n      \"column\": \"F1 Score\",\n      \"properties\": {\n        \"dtype\": \"number\",\n        \"std\": 0.07249600582134424,\n        \"min\": 0.37692307692307697,\n        \"max\": 0.6885780885780887,\n        \"num_unique_values\": 12,\n        \"samples\": [\n          0.37692307692307697,\n          0.6885780885780887,\n          0.4977511244377811\n        ],\n        \"semantic_type\": \"\",\n        \"description\": \"\"\n      }\n    },\n    {\n      \"column\": \"Time Taken\",\n      \"properties\": {\n        \"dtype\": \"number\",\n        \"std\": 0.025565615491146196,\n        \"min\": 0.00948953628540039,\n        \"max\": 0.10216236114501953,\n        \"num_unique_values\": 27,\n        \"samples\": [\n          0.08826923370361328,\n          0.012593269348144531,\n          0.010350465774536133\n        ],\n        \"semantic_type\": \"\",\n        \"description\": \"\"\n      }\n    },\n    {\n      \"column\": \"Recall_average_class0\",\n      \"properties\": {\n        \"dtype\": \"number\",\n        \"std\": 0.02442427233988309,\n        \"min\": 0.5,\n        \"max\": 0.606845238095238,\n        \"num_unique_values\": 26,\n        \"samples\": [\n          0.5606547619047619,\n          0.5433928571428571,\n          0.606845238095238\n        ],\n        \"semantic_type\": \"\",\n        \"description\": \"\"\n      }\n    },\n    {\n      \"column\": \"Recall_std_class0\",\n      \"properties\": {\n        \"dtype\": \"number\",\n        \"std\": 0.0735762669549682,\n        \"min\": 0.13941323781723458,\n        \"max\": 0.5,\n        \"num_unique_values\": 26,\n        \"samples\": [\n          0.15243487466698435,\n          0.16845931123216767,\n          0.14435935129826621\n        ],\n        \"semantic_type\": \"\",\n        \"description\": \"\"\n      }\n    },\n    {\n      \"column\": \"Recall_max_class0\",\n      \"properties\": {\n        \"dtype\": \"number\",\n        \"std\": 0.1877669040497027,\n        \"min\": 0.0,\n        \"max\": 1.0,\n        \"num_unique_values\": 6,\n        \"samples\": [\n          0.9166666666666666,\n          0.8333333333333334,\n          0.0\n        ],\n        \"semantic_type\": \"\",\n        \"description\": \"\"\n      }\n    },\n    {\n      \"column\": \"Seed_max_recall\",\n      \"properties\": {\n        \"dtype\": \"number\",\n        \"std\": 31,\n        \"min\": 0,\n        \"max\": 98,\n        \"num_unique_values\": 15,\n        \"samples\": [\n          23,\n          41,\n          89\n        ],\n        \"semantic_type\": \"\",\n        \"description\": \"\"\n      }\n    }\n  ]\n}"
            }
          },
          "metadata": {},
          "execution_count": 24
        }
      ]
    },
    {
      "cell_type": "markdown",
      "source": [
        "**Observations:**\n",
        "\n",
        "* The top 3 performing classifiers from this initial benchmark are:\n",
        "  1. **BernoulliNB** (**Average recall: 0.61**, Max. recall: 0.92, Seed:89)\n",
        "  2. LGBMClassifier (Average recall: 0.60, Max. recall: 0.92, Seed:25)\n",
        "  3. RandomForestClassifier (Average recall: 0.58, Max. recall: 0.83, Seed:83)\n",
        "\n",
        "  Let's fix the seed's value at 89 for this analysis."
      ],
      "metadata": {
        "id": "AVt3eVg62eSB"
      }
    },
    {
      "cell_type": "markdown",
      "metadata": {
        "id": "Pp1fyH-8NP3F"
      },
      "source": [
        "## **Building the model**\n",
        "\n",
        "Three different models are to be built:\n",
        "\n",
        "\n",
        "* [BernoulliNB](https://scikit-learn.org/stable/modules/generated/sklearn.naive_bayes.BernoulliNB.html)\n",
        "* [LGBMC Classifier](https://lightgbm.readthedocs.io/en/latest/pythonapi/lightgbm.LGBMClassifier.html)\n",
        "* [Random Forest Classifier](https://scikit-learn.org/stable/modules/generated/sklearn.ensemble.RandomForestClassifier.html)\n"
      ]
    },
    {
      "cell_type": "markdown",
      "metadata": {
        "id": "tyLULFFgSFW6"
      },
      "source": [
        "**We will create a function to calculate and print the classification report and confusion matrix.**"
      ]
    },
    {
      "cell_type": "code",
      "execution_count": null,
      "metadata": {
        "id": "KP8G4NvRSOJR"
      },
      "outputs": [],
      "source": [
        "# Creating metric function\n",
        "\n",
        "def metrics_score(actual, predicted):\n",
        "    print(classification_report(actual, predicted, digits = 2))\n",
        "    cm = confusion_matrix(actual, predicted)\n",
        "    plt.figure(figsize = (4, 4))\n",
        "    sns.heatmap(data = cm, annot = True, fmt = '.2f', xticklabels = ['Unhappy', 'Happy'], yticklabels = ['Unhappy', 'Happy'] )\n",
        "    plt.ylabel('Actual')\n",
        "    plt.xlabel('Predicted')\n",
        "    plt.show()"
      ]
    },
    {
      "cell_type": "code",
      "execution_count": null,
      "metadata": {
        "id": "HX5Rn4D2S16f"
      },
      "outputs": [],
      "source": [
        "def model_performance_classification(model, predictors, target):\n",
        "   # Predicting using the independent variables\n",
        "   pred = model.predict(predictors)\n",
        "   recall = f\"{recall_score(target, pred, average='macro'):.3f}\"\n",
        "   precision = f\"{precision_score(target, pred, average='macro'):.3f}\"\n",
        "   acc = f\"{accuracy_score(target, pred):.3f}\"\n",
        "\n",
        "\n",
        "   # Creating a dataframe of metrics\n",
        "   df_perf = pd.DataFrame(\n",
        "       {\n",
        "           \"Precision\" : precision,\n",
        "           \"Recall\" : recall,\n",
        "           \"Accuracy\" : acc,\n",
        "       },\n",
        "       index = [0]\n",
        "   )\n",
        "   return df_perf"
      ]
    },
    {
      "cell_type": "markdown",
      "source": [
        "Let's run the top 3 classifiers on the train and test datasets, and see how they perform on the data."
      ],
      "metadata": {
        "id": "Y1-G9-sl3zd7"
      }
    },
    {
      "cell_type": "markdown",
      "metadata": {
        "id": "-ESvpvZw-L9s"
      },
      "source": [
        "## **BernoulliNB**"
      ]
    },
    {
      "cell_type": "code",
      "execution_count": null,
      "metadata": {
        "colab": {
          "base_uri": "https://localhost:8080/",
          "height": 74
        },
        "id": "gHfhV4Ph-OIq",
        "outputId": "099fab20-ee7b-47d1-a87e-8d1ac2eaa2e4"
      },
      "outputs": [
        {
          "output_type": "execute_result",
          "data": {
            "text/plain": [
              "BernoulliNB(binarize=3)"
            ],
            "text/html": [
              "<style>#sk-container-id-1 {color: black;}#sk-container-id-1 pre{padding: 0;}#sk-container-id-1 div.sk-toggleable {background-color: white;}#sk-container-id-1 label.sk-toggleable__label {cursor: pointer;display: block;width: 100%;margin-bottom: 0;padding: 0.3em;box-sizing: border-box;text-align: center;}#sk-container-id-1 label.sk-toggleable__label-arrow:before {content: \"▸\";float: left;margin-right: 0.25em;color: #696969;}#sk-container-id-1 label.sk-toggleable__label-arrow:hover:before {color: black;}#sk-container-id-1 div.sk-estimator:hover label.sk-toggleable__label-arrow:before {color: black;}#sk-container-id-1 div.sk-toggleable__content {max-height: 0;max-width: 0;overflow: hidden;text-align: left;background-color: #f0f8ff;}#sk-container-id-1 div.sk-toggleable__content pre {margin: 0.2em;color: black;border-radius: 0.25em;background-color: #f0f8ff;}#sk-container-id-1 input.sk-toggleable__control:checked~div.sk-toggleable__content {max-height: 200px;max-width: 100%;overflow: auto;}#sk-container-id-1 input.sk-toggleable__control:checked~label.sk-toggleable__label-arrow:before {content: \"▾\";}#sk-container-id-1 div.sk-estimator input.sk-toggleable__control:checked~label.sk-toggleable__label {background-color: #d4ebff;}#sk-container-id-1 div.sk-label input.sk-toggleable__control:checked~label.sk-toggleable__label {background-color: #d4ebff;}#sk-container-id-1 input.sk-hidden--visually {border: 0;clip: rect(1px 1px 1px 1px);clip: rect(1px, 1px, 1px, 1px);height: 1px;margin: -1px;overflow: hidden;padding: 0;position: absolute;width: 1px;}#sk-container-id-1 div.sk-estimator {font-family: monospace;background-color: #f0f8ff;border: 1px dotted black;border-radius: 0.25em;box-sizing: border-box;margin-bottom: 0.5em;}#sk-container-id-1 div.sk-estimator:hover {background-color: #d4ebff;}#sk-container-id-1 div.sk-parallel-item::after {content: \"\";width: 100%;border-bottom: 1px solid gray;flex-grow: 1;}#sk-container-id-1 div.sk-label:hover label.sk-toggleable__label {background-color: #d4ebff;}#sk-container-id-1 div.sk-serial::before {content: \"\";position: absolute;border-left: 1px solid gray;box-sizing: border-box;top: 0;bottom: 0;left: 50%;z-index: 0;}#sk-container-id-1 div.sk-serial {display: flex;flex-direction: column;align-items: center;background-color: white;padding-right: 0.2em;padding-left: 0.2em;position: relative;}#sk-container-id-1 div.sk-item {position: relative;z-index: 1;}#sk-container-id-1 div.sk-parallel {display: flex;align-items: stretch;justify-content: center;background-color: white;position: relative;}#sk-container-id-1 div.sk-item::before, #sk-container-id-1 div.sk-parallel-item::before {content: \"\";position: absolute;border-left: 1px solid gray;box-sizing: border-box;top: 0;bottom: 0;left: 50%;z-index: -1;}#sk-container-id-1 div.sk-parallel-item {display: flex;flex-direction: column;z-index: 1;position: relative;background-color: white;}#sk-container-id-1 div.sk-parallel-item:first-child::after {align-self: flex-end;width: 50%;}#sk-container-id-1 div.sk-parallel-item:last-child::after {align-self: flex-start;width: 50%;}#sk-container-id-1 div.sk-parallel-item:only-child::after {width: 0;}#sk-container-id-1 div.sk-dashed-wrapped {border: 1px dashed gray;margin: 0 0.4em 0.5em 0.4em;box-sizing: border-box;padding-bottom: 0.4em;background-color: white;}#sk-container-id-1 div.sk-label label {font-family: monospace;font-weight: bold;display: inline-block;line-height: 1.2em;}#sk-container-id-1 div.sk-label-container {text-align: center;}#sk-container-id-1 div.sk-container {/* jupyter's `normalize.less` sets `[hidden] { display: none; }` but bootstrap.min.css set `[hidden] { display: none !important; }` so we also need the `!important` here to be able to override the default hidden behavior on the sphinx rendered scikit-learn.org. See: https://github.com/scikit-learn/scikit-learn/issues/21755 */display: inline-block !important;position: relative;}#sk-container-id-1 div.sk-text-repr-fallback {display: none;}</style><div id=\"sk-container-id-1\" class=\"sk-top-container\"><div class=\"sk-text-repr-fallback\"><pre>BernoulliNB(binarize=3)</pre><b>In a Jupyter environment, please rerun this cell to show the HTML representation or trust the notebook. <br />On GitHub, the HTML representation is unable to render, please try loading this page with nbviewer.org.</b></div><div class=\"sk-container\" hidden><div class=\"sk-item\"><div class=\"sk-estimator sk-toggleable\"><input class=\"sk-toggleable__control sk-hidden--visually\" id=\"sk-estimator-id-1\" type=\"checkbox\" checked><label for=\"sk-estimator-id-1\" class=\"sk-toggleable__label sk-toggleable__label-arrow\">BernoulliNB</label><div class=\"sk-toggleable__content\"><pre>BernoulliNB(binarize=3)</pre></div></div></div></div></div>"
            ]
          },
          "metadata": {},
          "execution_count": 27
        }
      ],
      "source": [
        "# Any feature having a value greater than 3 will take a value of 1, in any other case, its value will be zero.\n",
        "BernoulliNB_clf = BernoulliNB(binarize = 3, class_prior = None, fit_prior = True)\n",
        "BernoulliNB_clf.fit(x_train, y_train) # Fitting the model to the train dataset"
      ]
    },
    {
      "cell_type": "code",
      "execution_count": null,
      "metadata": {
        "colab": {
          "base_uri": "https://localhost:8080/",
          "height": 557
        },
        "id": "duycyCPq-9ar",
        "outputId": "08577565-58ea-4942-c8d8-872aacc97737"
      },
      "outputs": [
        {
          "output_type": "stream",
          "name": "stdout",
          "text": [
            "              precision    recall  f1-score   support\n",
            "\n",
            "           0       0.70      0.42      0.53        45\n",
            "           1       0.64      0.85      0.73        55\n",
            "\n",
            "    accuracy                           0.66       100\n",
            "   macro avg       0.67      0.64      0.63       100\n",
            "weighted avg       0.67      0.66      0.64       100\n",
            "\n"
          ]
        },
        {
          "output_type": "display_data",
          "data": {
            "text/plain": [
              "<Figure size 400x400 with 2 Axes>"
            ],
            "image/png": "[encoded data removed]"
          },
          "metadata": {}
        }
      ],
      "source": [
        "y_train_pred_bernoulliNB = BernoulliNB_clf.predict(x_train) # Predictions on the train dataset\n",
        "metrics_score(y_train, y_train_pred_bernoulliNB) # Evaluating performance"
      ]
    },
    {
      "cell_type": "markdown",
      "source": [
        "**Observations:**\n",
        "\n",
        "* The BernoulliNB classifier performed poorly on the train dataset, with a class-zero recall of 0.42."
      ],
      "metadata": {
        "id": "GLopSDu9CjXx"
      }
    },
    {
      "cell_type": "code",
      "execution_count": null,
      "metadata": {
        "colab": {
          "base_uri": "https://localhost:8080/",
          "height": 562
        },
        "id": "DnxU0pzf_9w6",
        "outputId": "880d58f9-2382-42f3-e43d-018869626bdd"
      },
      "outputs": [
        {
          "output_type": "stream",
          "name": "stdout",
          "text": [
            "              precision    recall  f1-score   support\n",
            "\n",
            "           0       0.71      0.42      0.53        12\n",
            "           1       0.63      0.86      0.73        14\n",
            "\n",
            "    accuracy                           0.65        26\n",
            "   macro avg       0.67      0.64      0.63        26\n",
            "weighted avg       0.67      0.65      0.63        26\n",
            "\n"
          ]
        },
        {
          "output_type": "display_data",
          "data": {
            "text/plain": [
              "<Figure size 400x400 with 2 Axes>"
            ],
            "image/png": "[encoded data removed]"
          },
          "metadata": {}
        }
      ],
      "source": [
        "y_test_pred_bernoulliNB = BernoulliNB_clf.predict(x_test) # Predictions on the test dataset\n",
        "metrics_score(y_test, y_test_pred_bernoulliNB) # Evaluating performance."
      ]
    },
    {
      "cell_type": "markdown",
      "source": [
        "**Observations:**\n",
        "\n",
        "* The BernoulliNB classifier performed poorly on the test set: the recall of class zero is also 0.42."
      ],
      "metadata": {
        "id": "MyZiD4Eg5Y56"
      }
    },
    {
      "cell_type": "markdown",
      "source": [
        "Let's optimize the parameters on the BernoulliNB classifier and see its performance with such setup."
      ],
      "metadata": {
        "id": "mvdWXhi3BtQ5"
      }
    },
    {
      "cell_type": "markdown",
      "metadata": {
        "id": "49mgE7M2Fh5b"
      },
      "source": [
        "## **Tuned BernoulliNB**"
      ]
    },
    {
      "cell_type": "code",
      "execution_count": null,
      "metadata": {
        "id": "o1nB3Yx3HwKT"
      },
      "outputs": [],
      "source": [
        "# Set of possible values for the parameter 'binarize'.\n",
        "BNB_binarize = hp.choice('binarize', [0.0, 1.0, 2.0, 3.0, 4.0, 5.0])"
      ]
    },
    {
      "cell_type": "code",
      "execution_count": null,
      "metadata": {
        "id": "EtVpuFb7Fl4v",
        "colab": {
          "base_uri": "https://localhost:8080/",
          "height": 472
        },
        "outputId": "898f6425-3224-4c17-be77-bc88e071653c"
      },
      "outputs": [
        {
          "output_type": "display_data",
          "data": {
            "text/plain": [
              "<Figure size 640x480 with 1 Axes>"
            ],
            "image/png": "[encoded data removed]"
          },
          "metadata": {}
        }
      ],
      "source": [
        "max_evals_range = np.arange(10, 160, 10) # The permissible values for max_evals range from 10 to 150, with increments of 10\n",
        "recall_scores = []\n",
        "\n",
        "for max_evals in max_evals_range:\n",
        "    BernoulliNB_tuned_estim = HyperoptEstimator(\n",
        "        classifier=bernoulli_nb(\"my bnb\", binarize=BNB_binarize),\n",
        "        preprocessing=any_preprocessing('my_pre'),\n",
        "        algo=tpe.suggest,\n",
        "        max_evals=max_evals,\n",
        "        trial_timeout=100\n",
        "    )\n",
        "    with suppress_output():\n",
        "      BernoulliNB_tuned_estim.fit(x_train, y_train)\n",
        "\n",
        "    # Predict and evaluate\n",
        "    y_pred = BernoulliNB_tuned_estim.predict(x_test)\n",
        "    recall = recall_score(y_test, y_pred, average=None)\n",
        "    recall_scores.append(recall[0])\n",
        "\n",
        "# Plot results\n",
        "plt.plot(max_evals_range, recall_scores, marker='o')\n",
        "plt.xlabel('max_evals')\n",
        "plt.ylabel('Recall class 0')\n",
        "plt.title('max_evals vs Recall class 0')\n",
        "plt.grid(True)\n",
        "plt.show()\n",
        "\n"
      ]
    },
    {
      "cell_type": "markdown",
      "source": [
        "**Observations:**\n",
        "\n",
        "* From the plot above, we can see that maximum recall for class 0 occurs at *max_evals = 100* with *recall ~ 0.83.*"
      ],
      "metadata": {
        "id": "koODOE7PbNmU"
      }
    },
    {
      "cell_type": "code",
      "execution_count": null,
      "metadata": {
        "id": "_dGfxZV61Ms2",
        "collapsed": true
      },
      "outputs": [],
      "source": [
        "# We find the best BernoulliNB model by applying HyperoptEstimator\n",
        "BernoulliNB_tuned_estim = HyperoptEstimator(\n",
        "    classifier=bernoulli_nb(\"my bnb\", binarize=BNB_binarize),\n",
        "    preprocessing=any_preprocessing('my_pre'),\n",
        "    algo=tpe.suggest,\n",
        "    max_evals=100, # Keep it to hundreds.\n",
        "    trial_timeout=100,\n",
        "    )\n",
        "with suppress_output():\n",
        "  BernoulliNB_tuned_estim.fit(x_train, y_train) # Fit the model to the train dataset.\n"
      ]
    },
    {
      "cell_type": "code",
      "execution_count": null,
      "metadata": {
        "id": "cQK8inicIT3r",
        "colab": {
          "base_uri": "https://localhost:8080/",
          "height": 557
        },
        "outputId": "245170f2-20a7-4112-e02b-626388bd6225"
      },
      "outputs": [
        {
          "output_type": "stream",
          "name": "stdout",
          "text": [
            "              precision    recall  f1-score   support\n",
            "\n",
            "           0       0.57      0.60      0.59        45\n",
            "           1       0.66      0.64      0.65        55\n",
            "\n",
            "    accuracy                           0.62       100\n",
            "   macro avg       0.62      0.62      0.62       100\n",
            "weighted avg       0.62      0.62      0.62       100\n",
            "\n"
          ]
        },
        {
          "output_type": "display_data",
          "data": {
            "text/plain": [
              "<Figure size 400x400 with 2 Axes>"
            ],
            "image/png": "[encoded data removed]"
          },
          "metadata": {}
        }
      ],
      "source": [
        "y_train_pred_BNB_tuned = BernoulliNB_tuned_estim.predict(x_train)\n",
        "metrics_score(y_train, y_train_pred_BNB_tuned)"
      ]
    },
    {
      "cell_type": "code",
      "execution_count": null,
      "metadata": {
        "id": "ndaUTbiLIWcQ",
        "colab": {
          "base_uri": "https://localhost:8080/",
          "height": 562
        },
        "outputId": "14edeb9b-67ac-4d04-a1c4-1b6d52466223"
      },
      "outputs": [
        {
          "output_type": "stream",
          "name": "stdout",
          "text": [
            "              precision    recall  f1-score   support\n",
            "\n",
            "           0       0.77      0.83      0.80        12\n",
            "           1       0.85      0.79      0.81        14\n",
            "\n",
            "    accuracy                           0.81        26\n",
            "   macro avg       0.81      0.81      0.81        26\n",
            "weighted avg       0.81      0.81      0.81        26\n",
            "\n"
          ]
        },
        {
          "output_type": "display_data",
          "data": {
            "text/plain": [
              "<Figure size 400x400 with 2 Axes>"
            ],
            "image/png": "[encoded data removed]"
          },
          "metadata": {}
        }
      ],
      "source": [
        "y_test_pred_BNB_tuned = BernoulliNB_tuned_estim.predict(x_test)\n",
        "metrics_score(y_test, y_test_pred_BNB_tuned)"
      ]
    },
    {
      "cell_type": "markdown",
      "source": [
        "**Observations:**\n",
        "\n",
        "* In the test dataset, the **BernoulliNB classifier** demonstrated a **recall score of 0.83 for class zero**, indicating its effectiveness in correctly identifying instances of unhappy customers."
      ],
      "metadata": {
        "id": "VEnnZULtbqu9"
      }
    },
    {
      "cell_type": "markdown",
      "source": [
        "Let's get the parameters of the tuned BernoulliNB classifiers:"
      ],
      "metadata": {
        "id": "R-fsjnQzBRuX"
      }
    },
    {
      "cell_type": "code",
      "source": [
        "# To get the parameters for the best BernoulliNB model\n",
        "best_model_NB = BernoulliNB_tuned_estim.best_model()\n",
        "NB_tuned_parameters = best_model_NB['learner'].get_params()\n",
        "NB_tuned_parameters"
      ],
      "metadata": {
        "colab": {
          "base_uri": "https://localhost:8080/"
        },
        "id": "AlAZ5GF9fvUN",
        "outputId": "8cd92d5e-dac2-4322-f014-587e046a8dd5"
      },
      "execution_count": null,
      "outputs": [
        {
          "output_type": "execute_result",
          "data": {
            "text/plain": [
              "{'alpha': 0.059000000000000004,\n",
              " 'binarize': 3.0,\n",
              " 'class_prior': None,\n",
              " 'fit_prior': False,\n",
              " 'force_alpha': 'warn'}"
            ]
          },
          "metadata": {},
          "execution_count": 41
        }
      ]
    },
    {
      "cell_type": "markdown",
      "metadata": {
        "id": "UDRDXelZBY_a"
      },
      "source": [
        "## **LGBMC Classifier**"
      ]
    },
    {
      "cell_type": "code",
      "execution_count": null,
      "metadata": {
        "id": "ZjK8W2yyBT6F",
        "collapsed": true
      },
      "outputs": [],
      "source": [
        "# Fitting the model LGBMC to the train dataset\n",
        "LGBMC_clf = LGBMClassifier(class_weight = {0 : 0.55, 1 : 0.45}, random_state = seed)\n",
        "with suppress_output():\n",
        "  LGBMC_clf.fit(x_train, y_train)"
      ]
    },
    {
      "cell_type": "code",
      "execution_count": null,
      "metadata": {
        "id": "pU2dDb_pBdo4",
        "colab": {
          "base_uri": "https://localhost:8080/",
          "height": 557
        },
        "outputId": "3dbc0b64-7a00-44a3-ccab-4f8003f2df81"
      },
      "outputs": [
        {
          "output_type": "stream",
          "name": "stdout",
          "text": [
            "              precision    recall  f1-score   support\n",
            "\n",
            "           0       0.70      0.73      0.72        45\n",
            "           1       0.77      0.75      0.76        55\n",
            "\n",
            "    accuracy                           0.74       100\n",
            "   macro avg       0.74      0.74      0.74       100\n",
            "weighted avg       0.74      0.74      0.74       100\n",
            "\n"
          ]
        },
        {
          "output_type": "display_data",
          "data": {
            "text/plain": [
              "<Figure size 400x400 with 2 Axes>"
            ],
            "image/png": "[encoded data removed]"
          },
          "metadata": {}
        }
      ],
      "source": [
        "y_train_pred_LGBMC = LGBMC_clf.predict(x_train) # Predictions on the train dataset\n",
        "metrics_score(y_train, y_train_pred_LGBMC) # Evaluating the perfomance of the model on the train dataset"
      ]
    },
    {
      "cell_type": "markdown",
      "source": [
        "**Observations:**\n",
        "\n",
        "* The LGBMC model performs well on the train dataset, with a class-zero recall of 0.73."
      ],
      "metadata": {
        "id": "fGmsP9VuLgbc"
      }
    },
    {
      "cell_type": "code",
      "execution_count": null,
      "metadata": {
        "id": "JjOlqAz4_y1G",
        "colab": {
          "base_uri": "https://localhost:8080/",
          "height": 562
        },
        "outputId": "e2a113d3-ca1d-4999-a002-cf484bc1c012"
      },
      "outputs": [
        {
          "output_type": "stream",
          "name": "stdout",
          "text": [
            "              precision    recall  f1-score   support\n",
            "\n",
            "           0       0.53      0.75      0.62        12\n",
            "           1       0.67      0.43      0.52        14\n",
            "\n",
            "    accuracy                           0.58        26\n",
            "   macro avg       0.60      0.59      0.57        26\n",
            "weighted avg       0.60      0.58      0.57        26\n",
            "\n"
          ]
        },
        {
          "output_type": "display_data",
          "data": {
            "text/plain": [
              "<Figure size 400x400 with 2 Axes>"
            ],
            "image/png": "[encoded data removed]"
          },
          "metadata": {}
        }
      ],
      "source": [
        "y_test_pred_LGBMC = LGBMC_clf.predict(x_test) # Predictions on the test dataset\n",
        "metrics_score(y_test, y_test_pred_LGBMC) # Evaluating performance on the test dataset"
      ]
    },
    {
      "cell_type": "markdown",
      "source": [
        "**Observations:**\n",
        "\n",
        "The LBGMC model performs well on the test set, with a class-zero recall of 0.75."
      ],
      "metadata": {
        "id": "H2m1RsSYaAiP"
      }
    },
    {
      "cell_type": "markdown",
      "metadata": {
        "id": "7JPbkU-BTrsO"
      },
      "source": [
        "## **Tuned LBGMC Classifier**"
      ]
    },
    {
      "cell_type": "code",
      "execution_count": null,
      "metadata": {
        "id": "gQfLGi5z-wBQ"
      },
      "outputs": [],
      "source": [
        "# Optimization of parameters for the LBGMC classifier\n",
        "LBGMC_tuned_estim = HyperoptEstimator(\n",
        "    classifier=lightgbm_classification('my_lbgmc'),\n",
        "    preprocessing=any_preprocessing('my_pre'),\n",
        "    algo=tpe.suggest,\n",
        "    max_evals=50,\n",
        "    trial_timeout=100,\n",
        "    )\n",
        "with suppress_output():\n",
        "  LBGMC_tuned_estim.fit(x_train, y_train)\n"
      ]
    },
    {
      "cell_type": "code",
      "source": [
        "y_train_pred_LBGMC_tuned = LBGMC_tuned_estim.predict(x_train)\n",
        "metrics_score(y_train, y_train_pred_LBGMC_tuned)"
      ],
      "metadata": {
        "id": "UdkU6135Ts3L",
        "colab": {
          "base_uri": "https://localhost:8080/",
          "height": 557
        },
        "outputId": "37f546fa-35d5-45e2-f40e-5d48e444ed56"
      },
      "execution_count": null,
      "outputs": [
        {
          "output_type": "stream",
          "name": "stdout",
          "text": [
            "              precision    recall  f1-score   support\n",
            "\n",
            "           0       0.73      0.71      0.72        45\n",
            "           1       0.77      0.78      0.77        55\n",
            "\n",
            "    accuracy                           0.75       100\n",
            "   macro avg       0.75      0.75      0.75       100\n",
            "weighted avg       0.75      0.75      0.75       100\n",
            "\n"
          ]
        },
        {
          "output_type": "display_data",
          "data": {
            "text/plain": [
              "<Figure size 400x400 with 2 Axes>"
            ],
            "image/png": "[encoded data removed]"
          },
          "metadata": {}
        }
      ]
    },
    {
      "cell_type": "markdown",
      "source": [
        "**Obervations:**\n",
        "\n",
        "* The Tuned LBGMC model performs well on the training set, with a class-zero recall of 0.71."
      ],
      "metadata": {
        "id": "DVLAAUAnYYwK"
      }
    },
    {
      "cell_type": "code",
      "source": [
        "y_test_pred_LBGMC_tuned = LBGMC_tuned_estim.predict(x_test)\n",
        "metrics_score(y_test, y_test_pred_LBGMC_tuned)"
      ],
      "metadata": {
        "id": "ZTYL18jlT5ov",
        "colab": {
          "base_uri": "https://localhost:8080/",
          "height": 562
        },
        "outputId": "a1c56b78-25c2-4064-ff91-ed66d18a2a52"
      },
      "execution_count": null,
      "outputs": [
        {
          "output_type": "stream",
          "name": "stdout",
          "text": [
            "              precision    recall  f1-score   support\n",
            "\n",
            "           0       0.58      0.58      0.58        12\n",
            "           1       0.64      0.64      0.64        14\n",
            "\n",
            "    accuracy                           0.62        26\n",
            "   macro avg       0.61      0.61      0.61        26\n",
            "weighted avg       0.62      0.62      0.62        26\n",
            "\n"
          ]
        },
        {
          "output_type": "display_data",
          "data": {
            "text/plain": [
              "<Figure size 400x400 with 2 Axes>"
            ],
            "image/png": "[encoded data removed]"
          },
          "metadata": {}
        }
      ]
    },
    {
      "cell_type": "markdown",
      "source": [
        "**Observations:**\n",
        "\n",
        "* The Tuned LBGMC model performs poorly on the test dataset, with a class-zero recall of 0.58"
      ],
      "metadata": {
        "id": "ST3nQD7tZzXj"
      }
    },
    {
      "cell_type": "markdown",
      "metadata": {
        "id": "7oLqPmI8B8vy"
      },
      "source": [
        "## **Random Forest**"
      ]
    },
    {
      "cell_type": "code",
      "execution_count": null,
      "metadata": {
        "id": "iU8ybjxMB_CA",
        "colab": {
          "base_uri": "https://localhost:8080/",
          "height": 74
        },
        "outputId": "08ed01cb-aa58-4ae7-83dc-b60740ef4df6"
      },
      "outputs": [
        {
          "output_type": "execute_result",
          "data": {
            "text/plain": [
              "RandomForestClassifier(class_weight={0: 0.55, 1: 0.45}, random_state=89)"
            ],
            "text/html": [
              "<style>#sk-container-id-2 {color: black;}#sk-container-id-2 pre{padding: 0;}#sk-container-id-2 div.sk-toggleable {background-color: white;}#sk-container-id-2 label.sk-toggleable__label {cursor: pointer;display: block;width: 100%;margin-bottom: 0;padding: 0.3em;box-sizing: border-box;text-align: center;}#sk-container-id-2 label.sk-toggleable__label-arrow:before {content: \"▸\";float: left;margin-right: 0.25em;color: #696969;}#sk-container-id-2 label.sk-toggleable__label-arrow:hover:before {color: black;}#sk-container-id-2 div.sk-estimator:hover label.sk-toggleable__label-arrow:before {color: black;}#sk-container-id-2 div.sk-toggleable__content {max-height: 0;max-width: 0;overflow: hidden;text-align: left;background-color: #f0f8ff;}#sk-container-id-2 div.sk-toggleable__content pre {margin: 0.2em;color: black;border-radius: 0.25em;background-color: #f0f8ff;}#sk-container-id-2 input.sk-toggleable__control:checked~div.sk-toggleable__content {max-height: 200px;max-width: 100%;overflow: auto;}#sk-container-id-2 input.sk-toggleable__control:checked~label.sk-toggleable__label-arrow:before {content: \"▾\";}#sk-container-id-2 div.sk-estimator input.sk-toggleable__control:checked~label.sk-toggleable__label {background-color: #d4ebff;}#sk-container-id-2 div.sk-label input.sk-toggleable__control:checked~label.sk-toggleable__label {background-color: #d4ebff;}#sk-container-id-2 input.sk-hidden--visually {border: 0;clip: rect(1px 1px 1px 1px);clip: rect(1px, 1px, 1px, 1px);height: 1px;margin: -1px;overflow: hidden;padding: 0;position: absolute;width: 1px;}#sk-container-id-2 div.sk-estimator {font-family: monospace;background-color: #f0f8ff;border: 1px dotted black;border-radius: 0.25em;box-sizing: border-box;margin-bottom: 0.5em;}#sk-container-id-2 div.sk-estimator:hover {background-color: #d4ebff;}#sk-container-id-2 div.sk-parallel-item::after {content: \"\";width: 100%;border-bottom: 1px solid gray;flex-grow: 1;}#sk-container-id-2 div.sk-label:hover label.sk-toggleable__label {background-color: #d4ebff;}#sk-container-id-2 div.sk-serial::before {content: \"\";position: absolute;border-left: 1px solid gray;box-sizing: border-box;top: 0;bottom: 0;left: 50%;z-index: 0;}#sk-container-id-2 div.sk-serial {display: flex;flex-direction: column;align-items: center;background-color: white;padding-right: 0.2em;padding-left: 0.2em;position: relative;}#sk-container-id-2 div.sk-item {position: relative;z-index: 1;}#sk-container-id-2 div.sk-parallel {display: flex;align-items: stretch;justify-content: center;background-color: white;position: relative;}#sk-container-id-2 div.sk-item::before, #sk-container-id-2 div.sk-parallel-item::before {content: \"\";position: absolute;border-left: 1px solid gray;box-sizing: border-box;top: 0;bottom: 0;left: 50%;z-index: -1;}#sk-container-id-2 div.sk-parallel-item {display: flex;flex-direction: column;z-index: 1;position: relative;background-color: white;}#sk-container-id-2 div.sk-parallel-item:first-child::after {align-self: flex-end;width: 50%;}#sk-container-id-2 div.sk-parallel-item:last-child::after {align-self: flex-start;width: 50%;}#sk-container-id-2 div.sk-parallel-item:only-child::after {width: 0;}#sk-container-id-2 div.sk-dashed-wrapped {border: 1px dashed gray;margin: 0 0.4em 0.5em 0.4em;box-sizing: border-box;padding-bottom: 0.4em;background-color: white;}#sk-container-id-2 div.sk-label label {font-family: monospace;font-weight: bold;display: inline-block;line-height: 1.2em;}#sk-container-id-2 div.sk-label-container {text-align: center;}#sk-container-id-2 div.sk-container {/* jupyter's `normalize.less` sets `[hidden] { display: none; }` but bootstrap.min.css set `[hidden] { display: none !important; }` so we also need the `!important` here to be able to override the default hidden behavior on the sphinx rendered scikit-learn.org. See: https://github.com/scikit-learn/scikit-learn/issues/21755 */display: inline-block !important;position: relative;}#sk-container-id-2 div.sk-text-repr-fallback {display: none;}</style><div id=\"sk-container-id-2\" class=\"sk-top-container\"><div class=\"sk-text-repr-fallback\"><pre>RandomForestClassifier(class_weight={0: 0.55, 1: 0.45}, random_state=89)</pre><b>In a Jupyter environment, please rerun this cell to show the HTML representation or trust the notebook. <br />On GitHub, the HTML representation is unable to render, please try loading this page with nbviewer.org.</b></div><div class=\"sk-container\" hidden><div class=\"sk-item\"><div class=\"sk-estimator sk-toggleable\"><input class=\"sk-toggleable__control sk-hidden--visually\" id=\"sk-estimator-id-2\" type=\"checkbox\" checked><label for=\"sk-estimator-id-2\" class=\"sk-toggleable__label sk-toggleable__label-arrow\">RandomForestClassifier</label><div class=\"sk-toggleable__content\"><pre>RandomForestClassifier(class_weight={0: 0.55, 1: 0.45}, random_state=89)</pre></div></div></div></div></div>"
            ]
          },
          "metadata": {},
          "execution_count": 81
        }
      ],
      "source": [
        "RF_clf = RandomForestClassifier(class_weight = {0 : 0.55, 1 : 0.45}, random_state = seed)\n",
        "RF_clf.fit(x_train, y_train) # Fitting of Random Forest Classifier on the train dataset"
      ]
    },
    {
      "cell_type": "code",
      "execution_count": null,
      "metadata": {
        "id": "-laHMkmTCILr",
        "colab": {
          "base_uri": "https://localhost:8080/",
          "height": 557
        },
        "outputId": "51ea7739-38f3-4f16-c6b6-38ad5d913116"
      },
      "outputs": [
        {
          "output_type": "stream",
          "name": "stdout",
          "text": [
            "              precision    recall  f1-score   support\n",
            "\n",
            "           0       0.98      0.93      0.95        45\n",
            "           1       0.95      0.98      0.96        55\n",
            "\n",
            "    accuracy                           0.96       100\n",
            "   macro avg       0.96      0.96      0.96       100\n",
            "weighted avg       0.96      0.96      0.96       100\n",
            "\n"
          ]
        },
        {
          "output_type": "display_data",
          "data": {
            "text/plain": [
              "<Figure size 400x400 with 2 Axes>"
            ],
            "image/png": "[encoded data removed]"
          },
          "metadata": {}
        }
      ],
      "source": [
        "y_train_pred_rf = RF_clf.predict(x_train) #  Predictions on the train dataset\n",
        "metrics_score(y_train, y_train_pred_rf) # Evaluating performance on the train dataset"
      ]
    },
    {
      "cell_type": "markdown",
      "source": [
        "**Observations:**\n",
        "\n",
        "* The Random Forest Classifier achieves a high recall for class zero, with a value of 0.93. This exceptionally high recall might suggest that the model could be overfitting."
      ],
      "metadata": {
        "id": "1PPXur8daBzB"
      }
    },
    {
      "cell_type": "code",
      "execution_count": null,
      "metadata": {
        "id": "sNlEum0qCOox",
        "colab": {
          "base_uri": "https://localhost:8080/",
          "height": 562
        },
        "outputId": "2b658dea-8b07-4b87-e501-3a84531c6839"
      },
      "outputs": [
        {
          "output_type": "stream",
          "name": "stdout",
          "text": [
            "              precision    recall  f1-score   support\n",
            "\n",
            "           0       0.64      0.58      0.61        12\n",
            "           1       0.67      0.71      0.69        14\n",
            "\n",
            "    accuracy                           0.65        26\n",
            "   macro avg       0.65      0.65      0.65        26\n",
            "weighted avg       0.65      0.65      0.65        26\n",
            "\n"
          ]
        },
        {
          "output_type": "display_data",
          "data": {
            "text/plain": [
              "<Figure size 400x400 with 2 Axes>"
            ],
            "image/png": "[encoded data removed]"
          },
          "metadata": {}
        }
      ],
      "source": [
        "y_test_pred_rf = RF_clf.predict(x_test) # Predictions on the test dataset.\n",
        "metrics_score(y_test, y_test_pred_rf) # Evaluating performance on the test dataset."
      ]
    },
    {
      "cell_type": "markdown",
      "source": [
        "**Observations:**\n",
        "\n",
        "* The Random Forest Classifier performs poorly on the test dataset, with a recall for class zero of 0.58. This result suggests that the model may be overfitting the training data."
      ],
      "metadata": {
        "id": "vlf7K9uCajAw"
      }
    },
    {
      "cell_type": "markdown",
      "source": [
        "## **Tuned Random Forest**"
      ],
      "metadata": {
        "id": "HUGiYGcdUJFx"
      }
    },
    {
      "cell_type": "code",
      "source": [
        "# Parameters to Consider for Optimizing the Random Forest Classifier\n",
        "trf_n_estimators = hp.choice('n_estimators', [10, 20, 30, 40, 50, 60, 70, 80, 90, 100])\n",
        "trf_max_depth = hp.choice('max_depth', [2, 3, 4, 5, 6, 7, 8, 9, 10])\n",
        "trf_min_samples_split = hp.choice('min_samples_split', [2, 3, 4, 5, 6, 7, 8, 9, 10])\n",
        "trf_min_samples_leaf = hp.choice('min_samples_leaf', [1, 2, 3, 4, 5, 6, 7, 8, 9, 10])\n",
        "trf_max_features = hp.choice('max_features', [0.1, 0.2, 0.3, 0.4, 0.5, 0.6, 0.7, 0.8, 0.9, 1.0])\n",
        "trf_criterion = hp.choice('criterion', ['gini', 'entropy'])"
      ],
      "metadata": {
        "id": "Z1fiJrgIUY6S"
      },
      "execution_count": null,
      "outputs": []
    },
    {
      "cell_type": "code",
      "source": [
        "# Finding the best parameters for Random Forest Classifier using HyperoptEstimator\n",
        "RF_tuned_estim = HyperoptEstimator(\n",
        "                          classifier=random_forest_classifier(\n",
        "                          'my_trf',\n",
        "                          n_estimators = trf_n_estimators,\n",
        "                          max_depth = trf_max_depth,\n",
        "                          min_samples_split = trf_min_samples_split,\n",
        "                          min_samples_leaf = trf_min_samples_leaf,\n",
        "                          max_features = trf_max_features,\n",
        "                          criterion = trf_criterion\n",
        "                          ),\n",
        "                          preprocessing=any_preprocessing('my_pre'),\n",
        "                          algo=tpe.suggest,\n",
        "                          max_evals=100,\n",
        "                          trial_timeout=200,\n",
        "                          )\n",
        "with suppress_output():\n",
        "  RF_tuned_estim.fit(x_train, y_train) # Fitting the tuned model to the train data"
      ],
      "metadata": {
        "id": "sGRFG7ovVrt0",
        "collapsed": true
      },
      "execution_count": null,
      "outputs": []
    },
    {
      "cell_type": "code",
      "source": [
        "y_train_pred_trf = RF_tuned_estim.predict(x_train) # Fitting on the train dataset\n",
        "metrics_score(y_train, y_train_pred_trf) # Evaluating performance on the train dataset"
      ],
      "metadata": {
        "id": "IRWGZ0iWWebT",
        "colab": {
          "base_uri": "https://localhost:8080/",
          "height": 557
        },
        "outputId": "14465534-4cc6-4212-9c0c-529c4031392f"
      },
      "execution_count": null,
      "outputs": [
        {
          "output_type": "stream",
          "name": "stdout",
          "text": [
            "              precision    recall  f1-score   support\n",
            "\n",
            "           0       0.60      0.60      0.60        45\n",
            "           1       0.67      0.67      0.67        55\n",
            "\n",
            "    accuracy                           0.64       100\n",
            "   macro avg       0.64      0.64      0.64       100\n",
            "weighted avg       0.64      0.64      0.64       100\n",
            "\n"
          ]
        },
        {
          "output_type": "display_data",
          "data": {
            "text/plain": [
              "<Figure size 400x400 with 2 Axes>"
            ],
            "image/png": "[encoded data removed]"
          },
          "metadata": {}
        }
      ]
    },
    {
      "cell_type": "markdown",
      "source": [
        "**Observations:**\n",
        "\n",
        "* The tuned Random Forest Classifier performs well to some extent, as the recall of class zero is 0.60.\n"
      ],
      "metadata": {
        "id": "QaLi7GhEsFF1"
      }
    },
    {
      "cell_type": "code",
      "source": [
        "y_test_pred_trf = RF_tuned_estim.predict(x_test) # Fitting tuned Random Forest classifier on the test dataset\n",
        "metrics_score(y_test, y_test_pred_trf) # Evaluating performance on the test dataset"
      ],
      "metadata": {
        "id": "yTKAcIxMWlv5",
        "colab": {
          "base_uri": "https://localhost:8080/",
          "height": 562
        },
        "outputId": "4026c237-6be4-4aa3-86e8-44cf473637bc"
      },
      "execution_count": null,
      "outputs": [
        {
          "output_type": "stream",
          "name": "stdout",
          "text": [
            "              precision    recall  f1-score   support\n",
            "\n",
            "           0       0.62      0.67      0.64        12\n",
            "           1       0.69      0.64      0.67        14\n",
            "\n",
            "    accuracy                           0.65        26\n",
            "   macro avg       0.65      0.65      0.65        26\n",
            "weighted avg       0.66      0.65      0.65        26\n",
            "\n"
          ]
        },
        {
          "output_type": "display_data",
          "data": {
            "text/plain": [
              "<Figure size 400x400 with 2 Axes>"
            ],
            "image/png": "[encoded data removed]"
          },
          "metadata": {}
        }
      ]
    },
    {
      "cell_type": "markdown",
      "source": [
        "**Observations:**\n",
        "\n",
        "* The tuned Random Forest Classifier performs well to some extent on the test dataset, as the recall of class zero is 0.67"
      ],
      "metadata": {
        "id": "pCmevK0Zsc76"
      }
    },
    {
      "cell_type": "markdown",
      "source": [
        "Let's get the best parameters of the tuned Random Forest Classifier:"
      ],
      "metadata": {
        "id": "swqr2OOFtLbV"
      }
    },
    {
      "cell_type": "code",
      "source": [
        "# Getting the best parameters of tuned Random Forest Classifier\n",
        "best_RF_tuned = RF_tuned_estim.best_model()\n",
        "RF_tuned_parameters = best_RF_tuned['learner'].get_params()\n",
        "RF_tuned_parameters"
      ],
      "metadata": {
        "colab": {
          "base_uri": "https://localhost:8080/"
        },
        "id": "GtU1I7g8gD3O",
        "outputId": "b79fecb3-b1b6-49d5-e3e0-d87de281ae72"
      },
      "execution_count": null,
      "outputs": [
        {
          "output_type": "execute_result",
          "data": {
            "text/plain": [
              "{'bootstrap': True,\n",
              " 'ccp_alpha': 0.0,\n",
              " 'class_weight': 'balanced_subsample',\n",
              " 'criterion': 'entropy',\n",
              " 'max_depth': 4,\n",
              " 'max_features': 0.9,\n",
              " 'max_leaf_nodes': None,\n",
              " 'max_samples': None,\n",
              " 'min_impurity_decrease': 0.05,\n",
              " 'min_samples_leaf': 8,\n",
              " 'min_samples_split': 2,\n",
              " 'min_weight_fraction_leaf': 0.0,\n",
              " 'n_estimators': 70,\n",
              " 'n_jobs': 1,\n",
              " 'oob_score': False,\n",
              " 'random_state': 0,\n",
              " 'verbose': False,\n",
              " 'warm_start': False}"
            ]
          },
          "metadata": {},
          "execution_count": 222
        }
      ]
    },
    {
      "cell_type": "markdown",
      "source": [
        "**Observations:**\n",
        "\n",
        "* The base models that are selected for continuing our analysis are:\n",
        "  * **Tuned Bernoulli NB**\n",
        "  * **LGBMC**\n",
        "  * **Tuned Random Forest**"
      ],
      "metadata": {
        "id": "LPF66j44hqFZ"
      }
    },
    {
      "cell_type": "markdown",
      "metadata": {
        "id": "Gffce33GqobO"
      },
      "source": [
        "## **Ensemble Models**"
      ]
    },
    {
      "cell_type": "markdown",
      "source": [
        "We will use the 3 base models selected previously as inputs to create ensemble models by two approaches: stacking and voting."
      ],
      "metadata": {
        "id": "8X0An7wKhcic"
      }
    },
    {
      "cell_type": "markdown",
      "metadata": {
        "id": "juxh5hjbquY1"
      },
      "source": [
        "## **Stacking approach**"
      ]
    },
    {
      "cell_type": "code",
      "source": [
        "# meta features\n",
        "test_stack = np.column_stack((y_test_pred_BNB_tuned, y_test_pred_LGBMC, y_test_pred_trf))\n",
        "train_stack = np.column_stack((y_train_pred_BNB_tuned, y_train_pred_LGBMC, y_train_pred_trf))"
      ],
      "metadata": {
        "id": "7dTvETGZrKO8"
      },
      "execution_count": null,
      "outputs": []
    },
    {
      "cell_type": "markdown",
      "source": [
        "### **Preliminary Benchmark of Classifiers for Stacking Approach**"
      ],
      "metadata": {
        "id": "64ZlcAbGtjVS"
      }
    },
    {
      "cell_type": "markdown",
      "source": [
        "Similar to the exploration that we performed with the base models, we will examine the available algorithms and find the top 3 classifiers that achieve the best recall of class zero."
      ],
      "metadata": {
        "id": "3WWM9SRbhK-w"
      }
    },
    {
      "cell_type": "code",
      "source": [
        "# Redirect standard output and errors\n",
        "@contextlib.contextmanager\n",
        "def suppress_output():\n",
        "    with open(os.devnull, 'w') as fnull:\n",
        "        old_stdout = sys.stdout\n",
        "        old_stderr = sys.stderr\n",
        "        sys.stdout = fnull\n",
        "        sys.stderr = fnull\n",
        "        try:\n",
        "            yield\n",
        "        finally:\n",
        "            sys.stdout = old_stdout\n",
        "            sys.stderr = old_stderr\n",
        "\n",
        "# Starts measuring time\n",
        "start_time = time.time()\n",
        "\n",
        "\n",
        "# Run to get a list of models\n",
        "with suppress_output(): # We use this function to suppress the output of algorithms that manage their own verbose parameter\n",
        "  clf_stack = LazyClassifier(verbose=0, ignore_warnings=True, custom_metric=None) # Launch LazyClassifier\n",
        "\n",
        "# We make an initial fit to get the initial list of classifier algorithms\n",
        "with suppress_output():\n",
        "  clf_stack.fit(train_stack, test_stack, y_train, y_test)"
      ],
      "metadata": {
        "id": "eVCurz_ltsJF"
      },
      "execution_count": null,
      "outputs": []
    },
    {
      "cell_type": "code",
      "source": [
        "# Initialize recall_scores with model names\n",
        "recall_scores_stack = {model_name: [] for model_name in clf_stack.models.keys()}\n",
        "max_recalls_stack = {model_name: -np.inf for model_name in clf_stack.models.keys()}\n",
        "\n",
        "\n",
        "with suppress_output(): # Suppress output during processing\n",
        "  clf_stack = LazyClassifier(verbose = 0, ignore_warnings = True, custom_metric = None) # Launch LazyClassifier\n",
        "with suppress_output(): # Suppress output during processing\n",
        "  models, predictions = clf_stack.fit(train_stack, test_stack, y_train, y_test) # Fitting on the train set.\n",
        "\n",
        "for model_name, model in clf_stack.models.items(): # We iterate on each model from the Lazyclassifier instance\n",
        "  with suppress_output(): # Suppress output during processing\n",
        "    y_pred = model.predict(test_stack) # Predicting on the test set\n",
        "    recall = recall_score(y_test, y_pred, average = None) # To compute recall\n",
        "    recall_scores_stack[model_name].append(recall)  # Append the recall score to the list\n",
        "\n",
        "    # Extract recall of class zero\n",
        "    recall_class_zero = recall[0] # We extract the recall value of the first position of the array\n",
        "    if recall_class_zero > max_recalls_stack[model_name]: # Keep track on updated maximum recall of class zero\n",
        "      max_recalls_stack[model_name] = recall_class_zero # Update new maximum recall of class zero\n",
        "\n",
        "# Average the performance metrics\n",
        "average_recalls_stack = {model: np.mean(scores) for model, scores, in recall_scores.items()}\n",
        "stddev_recalls_stack = {model: np.std(scores) for model, scores, in recall_scores.items()}\n",
        "\n",
        "models_stack = pd.DataFrame(models)\n",
        "models_stack['Recall_class0'] = models_stack.index.map(max_recalls_stack)\n",
        "\n",
        "# Stop measuring time\n",
        "end_time = time.time()"
      ],
      "metadata": {
        "id": "_9ldwW37ui47"
      },
      "execution_count": null,
      "outputs": []
    },
    {
      "cell_type": "code",
      "source": [
        "# Calculate execution time\n",
        "execution_time_stack = end_time - start_time\n",
        "print(\"Execution time: {:.2f} seconds\".format(execution_time_stack))\n",
        "\n",
        "# We will sort the models by average recall of class 0\n",
        "models_stack.sort_values(by = ['Recall_class0', 'Time Taken'], ascending = [False, True], inplace = True)\n",
        "\n",
        "# Show the top 3 performing classifiers\n",
        "models_stack.head(5)"
      ],
      "metadata": {
        "colab": {
          "base_uri": "https://localhost:8080/",
          "height": 293
        },
        "id": "xGXmPuX_wvOf",
        "outputId": "fd6793a8-7827-4752-fd26-54fa36478cb2"
      },
      "execution_count": null,
      "outputs": [
        {
          "output_type": "stream",
          "name": "stdout",
          "text": [
            "Execution time: 6.94 seconds\n"
          ]
        },
        {
          "output_type": "execute_result",
          "data": {
            "text/plain": [
              "                               Accuracy  Balanced Accuracy  ROC AUC  F1 Score  \\\n",
              "Model                                                                           \n",
              "NearestCentroid                    0.69               0.71     0.71      0.67   \n",
              "DecisionTreeClassifier             0.58               0.59     0.59      0.57   \n",
              "ExtraTreeClassifier                0.58               0.59     0.59      0.57   \n",
              "QuadraticDiscriminantAnalysis      0.58               0.59     0.59      0.57   \n",
              "GaussianNB                         0.58               0.59     0.59      0.57   \n",
              "\n",
              "                               Time Taken  Recall_class0  \n",
              "Model                                                     \n",
              "NearestCentroid                      0.01           1.00  \n",
              "DecisionTreeClassifier               0.01           0.75  \n",
              "ExtraTreeClassifier                  0.01           0.75  \n",
              "QuadraticDiscriminantAnalysis        0.01           0.75  \n",
              "GaussianNB                           0.01           0.75  "
            ],
            "text/html": [
              "\n",
              "  <div id=\"df-a4c0717d-5035-4d19-ad3d-918a26cafed4\" class=\"colab-df-container\">\n",
              "    <div>\n",
              "<style scoped>\n",
              "    .dataframe tbody tr th:only-of-type {\n",
              "        vertical-align: middle;\n",
              "    }\n",
              "\n",
              "    .dataframe tbody tr th {\n",
              "        vertical-align: top;\n",
              "    }\n",
              "\n",
              "    .dataframe thead th {\n",
              "        text-align: right;\n",
              "    }\n",
              "</style>\n",
              "<table border=\"1\" class=\"dataframe\">\n",
              "  <thead>\n",
              "    <tr style=\"text-align: right;\">\n",
              "      <th></th>\n",
              "      <th>Accuracy</th>\n",
              "      <th>Balanced Accuracy</th>\n",
              "      <th>ROC AUC</th>\n",
              "      <th>F1 Score</th>\n",
              "      <th>Time Taken</th>\n",
              "      <th>Recall_class0</th>\n",
              "    </tr>\n",
              "    <tr>\n",
              "      <th>Model</th>\n",
              "      <th></th>\n",
              "      <th></th>\n",
              "      <th></th>\n",
              "      <th></th>\n",
              "      <th></th>\n",
              "      <th></th>\n",
              "    </tr>\n",
              "  </thead>\n",
              "  <tbody>\n",
              "    <tr>\n",
              "      <th>NearestCentroid</th>\n",
              "      <td>0.69</td>\n",
              "      <td>0.71</td>\n",
              "      <td>0.71</td>\n",
              "      <td>0.67</td>\n",
              "      <td>0.01</td>\n",
              "      <td>1.00</td>\n",
              "    </tr>\n",
              "    <tr>\n",
              "      <th>DecisionTreeClassifier</th>\n",
              "      <td>0.58</td>\n",
              "      <td>0.59</td>\n",
              "      <td>0.59</td>\n",
              "      <td>0.57</td>\n",
              "      <td>0.01</td>\n",
              "      <td>0.75</td>\n",
              "    </tr>\n",
              "    <tr>\n",
              "      <th>ExtraTreeClassifier</th>\n",
              "      <td>0.58</td>\n",
              "      <td>0.59</td>\n",
              "      <td>0.59</td>\n",
              "      <td>0.57</td>\n",
              "      <td>0.01</td>\n",
              "      <td>0.75</td>\n",
              "    </tr>\n",
              "    <tr>\n",
              "      <th>QuadraticDiscriminantAnalysis</th>\n",
              "      <td>0.58</td>\n",
              "      <td>0.59</td>\n",
              "      <td>0.59</td>\n",
              "      <td>0.57</td>\n",
              "      <td>0.01</td>\n",
              "      <td>0.75</td>\n",
              "    </tr>\n",
              "    <tr>\n",
              "      <th>GaussianNB</th>\n",
              "      <td>0.58</td>\n",
              "      <td>0.59</td>\n",
              "      <td>0.59</td>\n",
              "      <td>0.57</td>\n",
              "      <td>0.01</td>\n",
              "      <td>0.75</td>\n",
              "    </tr>\n",
              "  </tbody>\n",
              "</table>\n",
              "</div>\n",
              "    <div class=\"colab-df-buttons\">\n",
              "\n",
              "  <div class=\"colab-df-container\">\n",
              "    <button class=\"colab-df-convert\" onclick=\"convertToInteractive('df-a4c0717d-5035-4d19-ad3d-918a26cafed4')\"\n",
              "            title=\"Convert this dataframe to an interactive table.\"\n",
              "            style=\"display:none;\">\n",
              "\n",
              "  <svg xmlns=\"http://www.w3.org/2000/svg\" height=\"24px\" viewBox=\"0 -960 960 960\">\n",
              "    <path d=\"M120-120v-720h720v720H120Zm60-500h600v-160H180v160Zm220 220h160v-160H400v160Zm0 220h160v-160H400v160ZM180-400h160v-160H180v160Zm440 0h160v-160H620v160ZM180-180h160v-160H180v160Zm440 0h160v-160H620v160Z\"/>\n",
              "  </svg>\n",
              "    </button>\n",
              "\n",
              "  <style>\n",
              "    .colab-df-container {\n",
              "      display:flex;\n",
              "      gap: 12px;\n",
              "    }\n",
              "\n",
              "    .colab-df-convert {\n",
              "      background-color: #E8F0FE;\n",
              "      border: none;\n",
              "      border-radius: 50%;\n",
              "      cursor: pointer;\n",
              "      display: none;\n",
              "      fill: #1967D2;\n",
              "      height: 32px;\n",
              "      padding: 0 0 0 0;\n",
              "      width: 32px;\n",
              "    }\n",
              "\n",
              "    .colab-df-convert:hover {\n",
              "      background-color: #E2EBFA;\n",
              "      box-shadow: 0px 1px 2px rgba(60, 64, 67, 0.3), 0px 1px 3px 1px rgba(60, 64, 67, 0.15);\n",
              "      fill: #174EA6;\n",
              "    }\n",
              "\n",
              "    .colab-df-buttons div {\n",
              "      margin-bottom: 4px;\n",
              "    }\n",
              "\n",
              "    [theme=dark] .colab-df-convert {\n",
              "      background-color: #3B4455;\n",
              "      fill: #D2E3FC;\n",
              "    }\n",
              "\n",
              "    [theme=dark] .colab-df-convert:hover {\n",
              "      background-color: #434B5C;\n",
              "      box-shadow: 0px 1px 3px 1px rgba(0, 0, 0, 0.15);\n",
              "      filter: drop-shadow(0px 1px 2px rgba(0, 0, 0, 0.3));\n",
              "      fill: #FFFFFF;\n",
              "    }\n",
              "  </style>\n",
              "\n",
              "    <script>\n",
              "      const buttonEl =\n",
              "        document.querySelector('#df-a4c0717d-5035-4d19-ad3d-918a26cafed4 button.colab-df-convert');\n",
              "      buttonEl.style.display =\n",
              "        google.colab.kernel.accessAllowed ? 'block' : 'none';\n",
              "\n",
              "      async function convertToInteractive(key) {\n",
              "        const element = document.querySelector('#df-a4c0717d-5035-4d19-ad3d-918a26cafed4');\n",
              "        const dataTable =\n",
              "          await google.colab.kernel.invokeFunction('convertToInteractive',\n",
              "                                                    [key], {});\n",
              "        if (!dataTable) return;\n",
              "\n",
              "        const docLinkHtml = 'Like what you see? Visit the ' +\n",
              "          '<a target=\"_blank\" href=https://colab.research.google.com/notebooks/data_table.ipynb>data table notebook</a>'\n",
              "          + ' to learn more about interactive tables.';\n",
              "        element.innerHTML = '';\n",
              "        dataTable['output_type'] = 'display_data';\n",
              "        await google.colab.output.renderOutput(dataTable, element);\n",
              "        const docLink = document.createElement('div');\n",
              "        docLink.innerHTML = docLinkHtml;\n",
              "        element.appendChild(docLink);\n",
              "      }\n",
              "    </script>\n",
              "  </div>\n",
              "\n",
              "\n",
              "<div id=\"df-ebf635ef-84b7-41cb-a4bd-a72860b7db47\">\n",
              "  <button class=\"colab-df-quickchart\" onclick=\"quickchart('df-ebf635ef-84b7-41cb-a4bd-a72860b7db47')\"\n",
              "            title=\"Suggest charts\"\n",
              "            style=\"display:none;\">\n",
              "\n",
              "<svg xmlns=\"http://www.w3.org/2000/svg\" height=\"24px\"viewBox=\"0 0 24 24\"\n",
              "     width=\"24px\">\n",
              "    <g>\n",
              "        <path d=\"M19 3H5c-1.1 0-2 .9-2 2v14c0 1.1.9 2 2 2h14c1.1 0 2-.9 2-2V5c0-1.1-.9-2-2-2zM9 17H7v-7h2v7zm4 0h-2V7h2v10zm4 0h-2v-4h2v4z\"/>\n",
              "    </g>\n",
              "</svg>\n",
              "  </button>\n",
              "\n",
              "<style>\n",
              "  .colab-df-quickchart {\n",
              "      --bg-color: #E8F0FE;\n",
              "      --fill-color: #1967D2;\n",
              "      --hover-bg-color: #E2EBFA;\n",
              "      --hover-fill-color: #174EA6;\n",
              "      --disabled-fill-color: #AAA;\n",
              "      --disabled-bg-color: #DDD;\n",
              "  }\n",
              "\n",
              "  [theme=dark] .colab-df-quickchart {\n",
              "      --bg-color: #3B4455;\n",
              "      --fill-color: #D2E3FC;\n",
              "      --hover-bg-color: #434B5C;\n",
              "      --hover-fill-color: #FFFFFF;\n",
              "      --disabled-bg-color: #3B4455;\n",
              "      --disabled-fill-color: #666;\n",
              "  }\n",
              "\n",
              "  .colab-df-quickchart {\n",
              "    background-color: var(--bg-color);\n",
              "    border: none;\n",
              "    border-radius: 50%;\n",
              "    cursor: pointer;\n",
              "    display: none;\n",
              "    fill: var(--fill-color);\n",
              "    height: 32px;\n",
              "    padding: 0;\n",
              "    width: 32px;\n",
              "  }\n",
              "\n",
              "  .colab-df-quickchart:hover {\n",
              "    background-color: var(--hover-bg-color);\n",
              "    box-shadow: 0 1px 2px rgba(60, 64, 67, 0.3), 0 1px 3px 1px rgba(60, 64, 67, 0.15);\n",
              "    fill: var(--button-hover-fill-color);\n",
              "  }\n",
              "\n",
              "  .colab-df-quickchart-complete:disabled,\n",
              "  .colab-df-quickchart-complete:disabled:hover {\n",
              "    background-color: var(--disabled-bg-color);\n",
              "    fill: var(--disabled-fill-color);\n",
              "    box-shadow: none;\n",
              "  }\n",
              "\n",
              "  .colab-df-spinner {\n",
              "    border: 2px solid var(--fill-color);\n",
              "    border-color: transparent;\n",
              "    border-bottom-color: var(--fill-color);\n",
              "    animation:\n",
              "      spin 1s steps(1) infinite;\n",
              "  }\n",
              "\n",
              "  @keyframes spin {\n",
              "    0% {\n",
              "      border-color: transparent;\n",
              "      border-bottom-color: var(--fill-color);\n",
              "      border-left-color: var(--fill-color);\n",
              "    }\n",
              "    20% {\n",
              "      border-color: transparent;\n",
              "      border-left-color: var(--fill-color);\n",
              "      border-top-color: var(--fill-color);\n",
              "    }\n",
              "    30% {\n",
              "      border-color: transparent;\n",
              "      border-left-color: var(--fill-color);\n",
              "      border-top-color: var(--fill-color);\n",
              "      border-right-color: var(--fill-color);\n",
              "    }\n",
              "    40% {\n",
              "      border-color: transparent;\n",
              "      border-right-color: var(--fill-color);\n",
              "      border-top-color: var(--fill-color);\n",
              "    }\n",
              "    60% {\n",
              "      border-color: transparent;\n",
              "      border-right-color: var(--fill-color);\n",
              "    }\n",
              "    80% {\n",
              "      border-color: transparent;\n",
              "      border-right-color: var(--fill-color);\n",
              "      border-bottom-color: var(--fill-color);\n",
              "    }\n",
              "    90% {\n",
              "      border-color: transparent;\n",
              "      border-bottom-color: var(--fill-color);\n",
              "    }\n",
              "  }\n",
              "</style>\n",
              "\n",
              "  <script>\n",
              "    async function quickchart(key) {\n",
              "      const quickchartButtonEl =\n",
              "        document.querySelector('#' + key + ' button');\n",
              "      quickchartButtonEl.disabled = true;  // To prevent multiple clicks.\n",
              "      quickchartButtonEl.classList.add('colab-df-spinner');\n",
              "      try {\n",
              "        const charts = await google.colab.kernel.invokeFunction(\n",
              "            'suggestCharts', [key], {});\n",
              "      } catch (error) {\n",
              "        console.error('Error during call to suggestCharts:', error);\n",
              "      }\n",
              "      quickchartButtonEl.classList.remove('colab-df-spinner');\n",
              "      quickchartButtonEl.classList.add('colab-df-quickchart-complete');\n",
              "    }\n",
              "    (() => {\n",
              "      let quickchartButtonEl =\n",
              "        document.querySelector('#df-ebf635ef-84b7-41cb-a4bd-a72860b7db47 button');\n",
              "      quickchartButtonEl.style.display =\n",
              "        google.colab.kernel.accessAllowed ? 'block' : 'none';\n",
              "    })();\n",
              "  </script>\n",
              "</div>\n",
              "\n",
              "    </div>\n",
              "  </div>\n"
            ],
            "application/vnd.google.colaboratory.intrinsic+json": {
              "type": "dataframe",
              "variable_name": "models_stack",
              "summary": "{\n  \"name\": \"models_stack\",\n  \"rows\": 27,\n  \"fields\": [\n    {\n      \"column\": \"Model\",\n      \"properties\": {\n        \"dtype\": \"string\",\n        \"num_unique_values\": 27,\n        \"samples\": [\n          \"RidgeClassifierCV\",\n          \"KNeighborsClassifier\",\n          \"LogisticRegression\"\n        ],\n        \"semantic_type\": \"\",\n        \"description\": \"\"\n      }\n    },\n    {\n      \"column\": \"Accuracy\",\n      \"properties\": {\n        \"dtype\": \"number\",\n        \"std\": 0.09894587620262581,\n        \"min\": 0.19230769230769232,\n        \"max\": 0.6923076923076923,\n        \"num_unique_values\": 5,\n        \"samples\": [\n          0.5769230769230769,\n          0.5384615384615384,\n          0.34615384615384615\n        ],\n        \"semantic_type\": \"\",\n        \"description\": \"\"\n      }\n    },\n    {\n      \"column\": \"Balanced Accuracy\",\n      \"properties\": {\n        \"dtype\": \"number\",\n        \"std\": 0.10106920119041776,\n        \"min\": 0.19047619047619047,\n        \"max\": 0.7142857142857143,\n        \"num_unique_values\": 6,\n        \"samples\": [\n          0.7142857142857143,\n          0.5892857142857143,\n          0.5\n        ],\n        \"semantic_type\": \"\",\n        \"description\": \"\"\n      }\n    },\n    {\n      \"column\": \"ROC AUC\",\n      \"properties\": {\n        \"dtype\": \"number\",\n        \"std\": 0.10106920119041775,\n        \"min\": 0.19047619047619047,\n        \"max\": 0.7142857142857143,\n        \"num_unique_values\": 6,\n        \"samples\": [\n          0.7142857142857143,\n          0.5892857142857143,\n          0.5\n        ],\n        \"semantic_type\": \"\",\n        \"description\": \"\"\n      }\n    },\n    {\n      \"column\": \"F1 Score\",\n      \"properties\": {\n        \"dtype\": \"number\",\n        \"std\": 0.10289126885979424,\n        \"min\": 0.1935042735042735,\n        \"max\": 0.6885780885780887,\n        \"num_unique_values\": 6,\n        \"samples\": [\n          0.6692307692307692,\n          0.5674086033906124,\n          0.37692307692307697\n        ],\n        \"semantic_type\": \"\",\n        \"description\": \"\"\n      }\n    },\n    {\n      \"column\": \"Time Taken\",\n      \"properties\": {\n        \"dtype\": \"number\",\n        \"std\": 0.024575577330729164,\n        \"min\": 0.009920835494995117,\n        \"max\": 0.1017918586730957,\n        \"num_unique_values\": 27,\n        \"samples\": [\n          0.011249780654907227,\n          0.012176513671875,\n          0.01155853271484375\n        ],\n        \"semantic_type\": \"\",\n        \"description\": \"\"\n      }\n    },\n    {\n      \"column\": \"Recall_class0\",\n      \"properties\": {\n        \"dtype\": \"number\",\n        \"std\": 0.20324994787340367,\n        \"min\": 0.0,\n        \"max\": 1.0,\n        \"num_unique_values\": 6,\n        \"samples\": [\n          1.0,\n          0.75,\n          0.0\n        ],\n        \"semantic_type\": \"\",\n        \"description\": \"\"\n      }\n    }\n  ]\n}"
            }
          },
          "metadata": {},
          "execution_count": 284
        }
      ]
    },
    {
      "cell_type": "markdown",
      "source": [
        "**Observations:**\n",
        "\n",
        "* The top 3 classifiers for the meta-model are:\n",
        "  * **Nearest Centroid**\n",
        "  * **Decision Tree**\n",
        "  * **Extra Tree**"
      ],
      "metadata": {
        "id": "Z55jZxJsg5nq"
      }
    },
    {
      "cell_type": "markdown",
      "source": [
        "## **Meta-model: Nearest Centroid**\n"
      ],
      "metadata": {
        "id": "sGtQfz833eBA"
      }
    },
    {
      "cell_type": "code",
      "source": [
        "meta_model_nn = NearestCentroid(metric = 'manhattan') # To create an instance of Nearest Centroid Classifier for the meta-model\n",
        "meta_model_nn.fit(train_stack, y_train) # Fitting the meta-model on the train dataset"
      ],
      "metadata": {
        "colab": {
          "base_uri": "https://localhost:8080/",
          "height": 74
        },
        "id": "Vi5y8hxE3iWO",
        "outputId": "7bd4b8cb-c8ea-4cf3-8712-70a0303529ef"
      },
      "execution_count": null,
      "outputs": [
        {
          "output_type": "execute_result",
          "data": {
            "text/plain": [
              "NearestCentroid(metric='manhattan')"
            ],
            "text/html": [
              "<style>#sk-container-id-14 {color: black;}#sk-container-id-14 pre{padding: 0;}#sk-container-id-14 div.sk-toggleable {background-color: white;}#sk-container-id-14 label.sk-toggleable__label {cursor: pointer;display: block;width: 100%;margin-bottom: 0;padding: 0.3em;box-sizing: border-box;text-align: center;}#sk-container-id-14 label.sk-toggleable__label-arrow:before {content: \"▸\";float: left;margin-right: 0.25em;color: #696969;}#sk-container-id-14 label.sk-toggleable__label-arrow:hover:before {color: black;}#sk-container-id-14 div.sk-estimator:hover label.sk-toggleable__label-arrow:before {color: black;}#sk-container-id-14 div.sk-toggleable__content {max-height: 0;max-width: 0;overflow: hidden;text-align: left;background-color: #f0f8ff;}#sk-container-id-14 div.sk-toggleable__content pre {margin: 0.2em;color: black;border-radius: 0.25em;background-color: #f0f8ff;}#sk-container-id-14 input.sk-toggleable__control:checked~div.sk-toggleable__content {max-height: 200px;max-width: 100%;overflow: auto;}#sk-container-id-14 input.sk-toggleable__control:checked~label.sk-toggleable__label-arrow:before {content: \"▾\";}#sk-container-id-14 div.sk-estimator input.sk-toggleable__control:checked~label.sk-toggleable__label {background-color: #d4ebff;}#sk-container-id-14 div.sk-label input.sk-toggleable__control:checked~label.sk-toggleable__label {background-color: #d4ebff;}#sk-container-id-14 input.sk-hidden--visually {border: 0;clip: rect(1px 1px 1px 1px);clip: rect(1px, 1px, 1px, 1px);height: 1px;margin: -1px;overflow: hidden;padding: 0;position: absolute;width: 1px;}#sk-container-id-14 div.sk-estimator {font-family: monospace;background-color: #f0f8ff;border: 1px dotted black;border-radius: 0.25em;box-sizing: border-box;margin-bottom: 0.5em;}#sk-container-id-14 div.sk-estimator:hover {background-color: #d4ebff;}#sk-container-id-14 div.sk-parallel-item::after {content: \"\";width: 100%;border-bottom: 1px solid gray;flex-grow: 1;}#sk-container-id-14 div.sk-label:hover label.sk-toggleable__label {background-color: #d4ebff;}#sk-container-id-14 div.sk-serial::before {content: \"\";position: absolute;border-left: 1px solid gray;box-sizing: border-box;top: 0;bottom: 0;left: 50%;z-index: 0;}#sk-container-id-14 div.sk-serial {display: flex;flex-direction: column;align-items: center;background-color: white;padding-right: 0.2em;padding-left: 0.2em;position: relative;}#sk-container-id-14 div.sk-item {position: relative;z-index: 1;}#sk-container-id-14 div.sk-parallel {display: flex;align-items: stretch;justify-content: center;background-color: white;position: relative;}#sk-container-id-14 div.sk-item::before, #sk-container-id-14 div.sk-parallel-item::before {content: \"\";position: absolute;border-left: 1px solid gray;box-sizing: border-box;top: 0;bottom: 0;left: 50%;z-index: -1;}#sk-container-id-14 div.sk-parallel-item {display: flex;flex-direction: column;z-index: 1;position: relative;background-color: white;}#sk-container-id-14 div.sk-parallel-item:first-child::after {align-self: flex-end;width: 50%;}#sk-container-id-14 div.sk-parallel-item:last-child::after {align-self: flex-start;width: 50%;}#sk-container-id-14 div.sk-parallel-item:only-child::after {width: 0;}#sk-container-id-14 div.sk-dashed-wrapped {border: 1px dashed gray;margin: 0 0.4em 0.5em 0.4em;box-sizing: border-box;padding-bottom: 0.4em;background-color: white;}#sk-container-id-14 div.sk-label label {font-family: monospace;font-weight: bold;display: inline-block;line-height: 1.2em;}#sk-container-id-14 div.sk-label-container {text-align: center;}#sk-container-id-14 div.sk-container {/* jupyter's `normalize.less` sets `[hidden] { display: none; }` but bootstrap.min.css set `[hidden] { display: none !important; }` so we also need the `!important` here to be able to override the default hidden behavior on the sphinx rendered scikit-learn.org. See: https://github.com/scikit-learn/scikit-learn/issues/21755 */display: inline-block !important;position: relative;}#sk-container-id-14 div.sk-text-repr-fallback {display: none;}</style><div id=\"sk-container-id-14\" class=\"sk-top-container\"><div class=\"sk-text-repr-fallback\"><pre>NearestCentroid(metric=&#x27;manhattan&#x27;)</pre><b>In a Jupyter environment, please rerun this cell to show the HTML representation or trust the notebook. <br />On GitHub, the HTML representation is unable to render, please try loading this page with nbviewer.org.</b></div><div class=\"sk-container\" hidden><div class=\"sk-item\"><div class=\"sk-estimator sk-toggleable\"><input class=\"sk-toggleable__control sk-hidden--visually\" id=\"sk-estimator-id-26\" type=\"checkbox\" checked><label for=\"sk-estimator-id-26\" class=\"sk-toggleable__label sk-toggleable__label-arrow\">NearestCentroid</label><div class=\"sk-toggleable__content\"><pre>NearestCentroid(metric=&#x27;manhattan&#x27;)</pre></div></div></div></div></div>"
            ]
          },
          "metadata": {},
          "execution_count": 253
        }
      ]
    },
    {
      "cell_type": "code",
      "source": [
        "final_pred_nn_train= meta_model_nn.predict(train_stack) # Predictions of the Nearest Centroid meta-model on the train dataset\n",
        "metrics_score(y_train, final_pred_nn_train) # Evaluating the performance of the meta-model on the train dataset"
      ],
      "metadata": {
        "colab": {
          "base_uri": "https://localhost:8080/",
          "height": 549
        },
        "id": "lL-phjG14fgW",
        "outputId": "c0dc3e28-c260-4cf5-e7e7-d979558bdf4e"
      },
      "execution_count": null,
      "outputs": [
        {
          "output_type": "stream",
          "name": "stdout",
          "text": [
            "              precision    recall  f1-score   support\n",
            "\n",
            "           0       0.67      0.67      0.67        45\n",
            "           1       0.73      0.73      0.73        55\n",
            "\n",
            "    accuracy                           0.70       100\n",
            "   macro avg       0.70      0.70      0.70       100\n",
            "weighted avg       0.70      0.70      0.70       100\n",
            "\n"
          ]
        },
        {
          "output_type": "display_data",
          "data": {
            "text/plain": [
              "<Figure size 400x400 with 2 Axes>"
            ],
            "image/png": "[encoded data removed]"
          },
          "metadata": {}
        }
      ]
    },
    {
      "cell_type": "code",
      "source": [
        "final_pred_nn_test = meta_model_nn.predict(test_stack) # Predictions of the Nearest Centroid meta-model on the test dataset\n",
        "metrics_score(y_test, final_pred_nn_test) # Evaluating the performance of the meta-model on the test dataset"
      ],
      "metadata": {
        "colab": {
          "base_uri": "https://localhost:8080/",
          "height": 549
        },
        "id": "HFisGKLm4q_Q",
        "outputId": "17eae669-0628-40ef-c27a-a47a6869914b"
      },
      "execution_count": null,
      "outputs": [
        {
          "output_type": "stream",
          "name": "stdout",
          "text": [
            "              precision    recall  f1-score   support\n",
            "\n",
            "           0       0.77      0.83      0.80        12\n",
            "           1       0.85      0.79      0.81        14\n",
            "\n",
            "    accuracy                           0.81        26\n",
            "   macro avg       0.81      0.81      0.81        26\n",
            "weighted avg       0.81      0.81      0.81        26\n",
            "\n"
          ]
        },
        {
          "output_type": "display_data",
          "data": {
            "text/plain": [
              "<Figure size 400x400 with 2 Axes>"
            ],
            "image/png": "[encoded data removed]"
          },
          "metadata": {}
        }
      ]
    },
    {
      "cell_type": "markdown",
      "source": [
        "## **Meta-model: Decision Tree Classifier**"
      ],
      "metadata": {
        "id": "F9UHapxx1BhK"
      }
    },
    {
      "cell_type": "code",
      "source": [
        "meta_model_dt = DecisionTreeClassifier(random_state=seed) # To create an instance of Decision Tree Classifier\n",
        "meta_model_dt.fit(train_stack, y_train) # Fitting the meta-model on the train data"
      ],
      "metadata": {
        "colab": {
          "base_uri": "https://localhost:8080/",
          "height": 74
        },
        "id": "ay-AqeES1GU2",
        "outputId": "25813eca-e83d-4295-fd7a-6bbebfd494ac"
      },
      "execution_count": null,
      "outputs": [
        {
          "output_type": "execute_result",
          "data": {
            "text/plain": [
              "DecisionTreeClassifier(random_state=89)"
            ],
            "text/html": [
              "<style>#sk-container-id-4 {color: black;}#sk-container-id-4 pre{padding: 0;}#sk-container-id-4 div.sk-toggleable {background-color: white;}#sk-container-id-4 label.sk-toggleable__label {cursor: pointer;display: block;width: 100%;margin-bottom: 0;padding: 0.3em;box-sizing: border-box;text-align: center;}#sk-container-id-4 label.sk-toggleable__label-arrow:before {content: \"▸\";float: left;margin-right: 0.25em;color: #696969;}#sk-container-id-4 label.sk-toggleable__label-arrow:hover:before {color: black;}#sk-container-id-4 div.sk-estimator:hover label.sk-toggleable__label-arrow:before {color: black;}#sk-container-id-4 div.sk-toggleable__content {max-height: 0;max-width: 0;overflow: hidden;text-align: left;background-color: #f0f8ff;}#sk-container-id-4 div.sk-toggleable__content pre {margin: 0.2em;color: black;border-radius: 0.25em;background-color: #f0f8ff;}#sk-container-id-4 input.sk-toggleable__control:checked~div.sk-toggleable__content {max-height: 200px;max-width: 100%;overflow: auto;}#sk-container-id-4 input.sk-toggleable__control:checked~label.sk-toggleable__label-arrow:before {content: \"▾\";}#sk-container-id-4 div.sk-estimator input.sk-toggleable__control:checked~label.sk-toggleable__label {background-color: #d4ebff;}#sk-container-id-4 div.sk-label input.sk-toggleable__control:checked~label.sk-toggleable__label {background-color: #d4ebff;}#sk-container-id-4 input.sk-hidden--visually {border: 0;clip: rect(1px 1px 1px 1px);clip: rect(1px, 1px, 1px, 1px);height: 1px;margin: -1px;overflow: hidden;padding: 0;position: absolute;width: 1px;}#sk-container-id-4 div.sk-estimator {font-family: monospace;background-color: #f0f8ff;border: 1px dotted black;border-radius: 0.25em;box-sizing: border-box;margin-bottom: 0.5em;}#sk-container-id-4 div.sk-estimator:hover {background-color: #d4ebff;}#sk-container-id-4 div.sk-parallel-item::after {content: \"\";width: 100%;border-bottom: 1px solid gray;flex-grow: 1;}#sk-container-id-4 div.sk-label:hover label.sk-toggleable__label {background-color: #d4ebff;}#sk-container-id-4 div.sk-serial::before {content: \"\";position: absolute;border-left: 1px solid gray;box-sizing: border-box;top: 0;bottom: 0;left: 50%;z-index: 0;}#sk-container-id-4 div.sk-serial {display: flex;flex-direction: column;align-items: center;background-color: white;padding-right: 0.2em;padding-left: 0.2em;position: relative;}#sk-container-id-4 div.sk-item {position: relative;z-index: 1;}#sk-container-id-4 div.sk-parallel {display: flex;align-items: stretch;justify-content: center;background-color: white;position: relative;}#sk-container-id-4 div.sk-item::before, #sk-container-id-4 div.sk-parallel-item::before {content: \"\";position: absolute;border-left: 1px solid gray;box-sizing: border-box;top: 0;bottom: 0;left: 50%;z-index: -1;}#sk-container-id-4 div.sk-parallel-item {display: flex;flex-direction: column;z-index: 1;position: relative;background-color: white;}#sk-container-id-4 div.sk-parallel-item:first-child::after {align-self: flex-end;width: 50%;}#sk-container-id-4 div.sk-parallel-item:last-child::after {align-self: flex-start;width: 50%;}#sk-container-id-4 div.sk-parallel-item:only-child::after {width: 0;}#sk-container-id-4 div.sk-dashed-wrapped {border: 1px dashed gray;margin: 0 0.4em 0.5em 0.4em;box-sizing: border-box;padding-bottom: 0.4em;background-color: white;}#sk-container-id-4 div.sk-label label {font-family: monospace;font-weight: bold;display: inline-block;line-height: 1.2em;}#sk-container-id-4 div.sk-label-container {text-align: center;}#sk-container-id-4 div.sk-container {/* jupyter's `normalize.less` sets `[hidden] { display: none; }` but bootstrap.min.css set `[hidden] { display: none !important; }` so we also need the `!important` here to be able to override the default hidden behavior on the sphinx rendered scikit-learn.org. See: https://github.com/scikit-learn/scikit-learn/issues/21755 */display: inline-block !important;position: relative;}#sk-container-id-4 div.sk-text-repr-fallback {display: none;}</style><div id=\"sk-container-id-4\" class=\"sk-top-container\"><div class=\"sk-text-repr-fallback\"><pre>DecisionTreeClassifier(random_state=89)</pre><b>In a Jupyter environment, please rerun this cell to show the HTML representation or trust the notebook. <br />On GitHub, the HTML representation is unable to render, please try loading this page with nbviewer.org.</b></div><div class=\"sk-container\" hidden><div class=\"sk-item\"><div class=\"sk-estimator sk-toggleable\"><input class=\"sk-toggleable__control sk-hidden--visually\" id=\"sk-estimator-id-4\" type=\"checkbox\" checked><label for=\"sk-estimator-id-4\" class=\"sk-toggleable__label sk-toggleable__label-arrow\">DecisionTreeClassifier</label><div class=\"sk-toggleable__content\"><pre>DecisionTreeClassifier(random_state=89)</pre></div></div></div></div></div>"
            ]
          },
          "metadata": {},
          "execution_count": 199
        }
      ]
    },
    {
      "cell_type": "code",
      "source": [
        "final_pred_dt_train = meta_model_dt.predict(train_stack) # Predictions of the Decision Tree meta-model on the train dataset\n",
        "metrics_score(y_train, final_pred_dt_train) # Evaluating the performance of the meta-model on the train dataset"
      ],
      "metadata": {
        "colab": {
          "base_uri": "https://localhost:8080/",
          "height": 557
        },
        "id": "cnIHMljc19hJ",
        "outputId": "19fe8dd7-62fe-409a-e332-d434c8e23367"
      },
      "execution_count": null,
      "outputs": [
        {
          "output_type": "stream",
          "name": "stdout",
          "text": [
            "              precision    recall  f1-score   support\n",
            "\n",
            "           0       0.70      0.73      0.72        45\n",
            "           1       0.77      0.75      0.76        55\n",
            "\n",
            "    accuracy                           0.74       100\n",
            "   macro avg       0.74      0.74      0.74       100\n",
            "weighted avg       0.74      0.74      0.74       100\n",
            "\n"
          ]
        },
        {
          "output_type": "display_data",
          "data": {
            "text/plain": [
              "<Figure size 400x400 with 2 Axes>"
            ],
            "image/png": "[encoded data removed]"
          },
          "metadata": {}
        }
      ]
    },
    {
      "cell_type": "code",
      "source": [
        "final_test_pred_dt = meta_model_dt.predict(test_stack) # Predictions of the Decision Tree meta-model on the test data\n",
        "metrics_score(y_test, final_test_pred_dt) # Evaluating the performance of the meta-model on the test data"
      ],
      "metadata": {
        "colab": {
          "base_uri": "https://localhost:8080/",
          "height": 562
        },
        "id": "Okp7QEVv2IKV",
        "outputId": "cf548673-6bbc-4afa-91ae-fb4a13f4fdd4"
      },
      "execution_count": null,
      "outputs": [
        {
          "output_type": "stream",
          "name": "stdout",
          "text": [
            "              precision    recall  f1-score   support\n",
            "\n",
            "           0       0.53      0.75      0.62        12\n",
            "           1       0.67      0.43      0.52        14\n",
            "\n",
            "    accuracy                           0.58        26\n",
            "   macro avg       0.60      0.59      0.57        26\n",
            "weighted avg       0.60      0.58      0.57        26\n",
            "\n"
          ]
        },
        {
          "output_type": "display_data",
          "data": {
            "text/plain": [
              "<Figure size 400x400 with 2 Axes>"
            ],
            "image/png": "[encoded data removed]"
          },
          "metadata": {}
        }
      ]
    },
    {
      "cell_type": "markdown",
      "source": [
        "## **Meta-model: Extra-Tree Classifier**"
      ],
      "metadata": {
        "id": "6K4BMeJo51d8"
      }
    },
    {
      "cell_type": "code",
      "source": [
        "meta_model_et = ExtraTreeClassifier(random_state=seed) # To create an instance of Extra Tree Classifier\n",
        "meta_model_et.fit(train_stack, y_train) # Fitting the meta-model on the train data"
      ],
      "metadata": {
        "colab": {
          "base_uri": "https://localhost:8080/",
          "height": 74
        },
        "id": "iwGs_2bl54yg",
        "outputId": "be5b75a0-dba1-48c1-e713-1d6644c2acf4"
      },
      "execution_count": null,
      "outputs": [
        {
          "output_type": "execute_result",
          "data": {
            "text/plain": [
              "ExtraTreeClassifier(random_state=89)"
            ],
            "text/html": [
              "<style>#sk-container-id-6 {color: black;}#sk-container-id-6 pre{padding: 0;}#sk-container-id-6 div.sk-toggleable {background-color: white;}#sk-container-id-6 label.sk-toggleable__label {cursor: pointer;display: block;width: 100%;margin-bottom: 0;padding: 0.3em;box-sizing: border-box;text-align: center;}#sk-container-id-6 label.sk-toggleable__label-arrow:before {content: \"▸\";float: left;margin-right: 0.25em;color: #696969;}#sk-container-id-6 label.sk-toggleable__label-arrow:hover:before {color: black;}#sk-container-id-6 div.sk-estimator:hover label.sk-toggleable__label-arrow:before {color: black;}#sk-container-id-6 div.sk-toggleable__content {max-height: 0;max-width: 0;overflow: hidden;text-align: left;background-color: #f0f8ff;}#sk-container-id-6 div.sk-toggleable__content pre {margin: 0.2em;color: black;border-radius: 0.25em;background-color: #f0f8ff;}#sk-container-id-6 input.sk-toggleable__control:checked~div.sk-toggleable__content {max-height: 200px;max-width: 100%;overflow: auto;}#sk-container-id-6 input.sk-toggleable__control:checked~label.sk-toggleable__label-arrow:before {content: \"▾\";}#sk-container-id-6 div.sk-estimator input.sk-toggleable__control:checked~label.sk-toggleable__label {background-color: #d4ebff;}#sk-container-id-6 div.sk-label input.sk-toggleable__control:checked~label.sk-toggleable__label {background-color: #d4ebff;}#sk-container-id-6 input.sk-hidden--visually {border: 0;clip: rect(1px 1px 1px 1px);clip: rect(1px, 1px, 1px, 1px);height: 1px;margin: -1px;overflow: hidden;padding: 0;position: absolute;width: 1px;}#sk-container-id-6 div.sk-estimator {font-family: monospace;background-color: #f0f8ff;border: 1px dotted black;border-radius: 0.25em;box-sizing: border-box;margin-bottom: 0.5em;}#sk-container-id-6 div.sk-estimator:hover {background-color: #d4ebff;}#sk-container-id-6 div.sk-parallel-item::after {content: \"\";width: 100%;border-bottom: 1px solid gray;flex-grow: 1;}#sk-container-id-6 div.sk-label:hover label.sk-toggleable__label {background-color: #d4ebff;}#sk-container-id-6 div.sk-serial::before {content: \"\";position: absolute;border-left: 1px solid gray;box-sizing: border-box;top: 0;bottom: 0;left: 50%;z-index: 0;}#sk-container-id-6 div.sk-serial {display: flex;flex-direction: column;align-items: center;background-color: white;padding-right: 0.2em;padding-left: 0.2em;position: relative;}#sk-container-id-6 div.sk-item {position: relative;z-index: 1;}#sk-container-id-6 div.sk-parallel {display: flex;align-items: stretch;justify-content: center;background-color: white;position: relative;}#sk-container-id-6 div.sk-item::before, #sk-container-id-6 div.sk-parallel-item::before {content: \"\";position: absolute;border-left: 1px solid gray;box-sizing: border-box;top: 0;bottom: 0;left: 50%;z-index: -1;}#sk-container-id-6 div.sk-parallel-item {display: flex;flex-direction: column;z-index: 1;position: relative;background-color: white;}#sk-container-id-6 div.sk-parallel-item:first-child::after {align-self: flex-end;width: 50%;}#sk-container-id-6 div.sk-parallel-item:last-child::after {align-self: flex-start;width: 50%;}#sk-container-id-6 div.sk-parallel-item:only-child::after {width: 0;}#sk-container-id-6 div.sk-dashed-wrapped {border: 1px dashed gray;margin: 0 0.4em 0.5em 0.4em;box-sizing: border-box;padding-bottom: 0.4em;background-color: white;}#sk-container-id-6 div.sk-label label {font-family: monospace;font-weight: bold;display: inline-block;line-height: 1.2em;}#sk-container-id-6 div.sk-label-container {text-align: center;}#sk-container-id-6 div.sk-container {/* jupyter's `normalize.less` sets `[hidden] { display: none; }` but bootstrap.min.css set `[hidden] { display: none !important; }` so we also need the `!important` here to be able to override the default hidden behavior on the sphinx rendered scikit-learn.org. See: https://github.com/scikit-learn/scikit-learn/issues/21755 */display: inline-block !important;position: relative;}#sk-container-id-6 div.sk-text-repr-fallback {display: none;}</style><div id=\"sk-container-id-6\" class=\"sk-top-container\"><div class=\"sk-text-repr-fallback\"><pre>ExtraTreeClassifier(random_state=89)</pre><b>In a Jupyter environment, please rerun this cell to show the HTML representation or trust the notebook. <br />On GitHub, the HTML representation is unable to render, please try loading this page with nbviewer.org.</b></div><div class=\"sk-container\" hidden><div class=\"sk-item\"><div class=\"sk-estimator sk-toggleable\"><input class=\"sk-toggleable__control sk-hidden--visually\" id=\"sk-estimator-id-6\" type=\"checkbox\" checked><label for=\"sk-estimator-id-6\" class=\"sk-toggleable__label sk-toggleable__label-arrow\">ExtraTreeClassifier</label><div class=\"sk-toggleable__content\"><pre>ExtraTreeClassifier(random_state=89)</pre></div></div></div></div></div>"
            ]
          },
          "metadata": {},
          "execution_count": 218
        }
      ]
    },
    {
      "cell_type": "code",
      "source": [
        "final_pred_et_train = meta_model_et.predict(train_stack) # Predictions of the meta-model on the train dataset\n",
        "metrics_score(y_train, final_pred_lr_train) # Evaluating the performance of the meta-model on the train dataset"
      ],
      "metadata": {
        "colab": {
          "base_uri": "https://localhost:8080/",
          "height": 557
        },
        "id": "QO_IMcar6whN",
        "outputId": "cae0188c-f0f0-4b82-aa3f-ade40b2865e9"
      },
      "execution_count": null,
      "outputs": [
        {
          "output_type": "stream",
          "name": "stdout",
          "text": [
            "              precision    recall  f1-score   support\n",
            "\n",
            "           0       0.70      0.73      0.72        45\n",
            "           1       0.77      0.75      0.76        55\n",
            "\n",
            "    accuracy                           0.74       100\n",
            "   macro avg       0.74      0.74      0.74       100\n",
            "weighted avg       0.74      0.74      0.74       100\n",
            "\n"
          ]
        },
        {
          "output_type": "display_data",
          "data": {
            "text/plain": [
              "<Figure size 400x400 with 2 Axes>"
            ],
            "image/png": "[encoded data removed]"
          },
          "metadata": {}
        }
      ]
    },
    {
      "cell_type": "markdown",
      "source": [
        "**Observations:**\n",
        "\n",
        "* The Extra Tree model"
      ],
      "metadata": {
        "id": "WdRHjEHa5Uam"
      }
    },
    {
      "cell_type": "code",
      "source": [
        "final_pred_et = meta_model_et.predict(test_stack) # Predictions of the Extra Tree model on the test dataset\n",
        "metrics_score(y_test, final_pred_et) # Evaluating the performance of the model on the test dataset"
      ],
      "metadata": {
        "colab": {
          "base_uri": "https://localhost:8080/",
          "height": 562
        },
        "id": "D6t_zj9w6-w7",
        "outputId": "a64d867e-99b0-4ab6-b064-2f1f4169334d"
      },
      "execution_count": null,
      "outputs": [
        {
          "output_type": "stream",
          "name": "stdout",
          "text": [
            "              precision    recall  f1-score   support\n",
            "\n",
            "           0       0.53      0.75      0.62        12\n",
            "           1       0.67      0.43      0.52        14\n",
            "\n",
            "    accuracy                           0.58        26\n",
            "   macro avg       0.60      0.59      0.57        26\n",
            "weighted avg       0.60      0.58      0.57        26\n",
            "\n"
          ]
        },
        {
          "output_type": "display_data",
          "data": {
            "text/plain": [
              "<Figure size 400x400 with 2 Axes>"
            ],
            "image/png": "[encoded data removed]"
          },
          "metadata": {}
        }
      ]
    },
    {
      "cell_type": "markdown",
      "source": [
        "**Observations:**\n",
        "\n",
        "* The Extra Tree meta-model performs well on the test dataset: it achieved a recall of class zero of 0.75."
      ],
      "metadata": {
        "id": "WFUSigk91p5u"
      }
    },
    {
      "cell_type": "markdown",
      "source": [
        "From the three top meta-models, **Nearest Centroid** demonstrated to outperform the Decision Tree and Extra Tree classifiers, with a recall of class zero of 0.83.\n",
        "\n",
        "Now we will follow a Voting approach and generate an additional ensemble model. Then we can contrast the result on each one of them and choose the best option."
      ],
      "metadata": {
        "id": "GwSlOojb17Z7"
      }
    },
    {
      "cell_type": "markdown",
      "source": [
        "## **Voting approach**\n",
        "\n"
      ],
      "metadata": {
        "id": "kKcQMQB9UW57"
      }
    },
    {
      "cell_type": "markdown",
      "source": [
        "### **Hard voting**\n",
        "\n"
      ],
      "metadata": {
        "id": "DNETl7Jld6Tw"
      }
    },
    {
      "cell_type": "markdown",
      "source": [
        "Hard voting counts the number of predictions for each class that were provided by the base models. The class with the highest number of votes becomes the final prediction of the ensemble model."
      ],
      "metadata": {
        "id": "G2a5KOYD1S4S"
      }
    },
    {
      "cell_type": "code",
      "source": [
        "# Here we recall the parameter values of the optimal tuned BernoulliNB model\n",
        "NB_clf1 = BernoulliNB(alpha = NB_tuned_parameters.get('alpha'),\n",
        "                      binarize = NB_tuned_parameters.get('binarize'),\n",
        "                      class_prior = NB_tuned_parameters.get('class_prior'),\n",
        "                      fit_prior = NB_tuned_parameters.get('fit_prior'),\n",
        "                      force_alpha = NB_tuned_parameters.get('force_alpha'),\n",
        "                      )\n",
        "\n",
        "# We recall the parameter values of the optimal Random Forest model\n",
        "RF_clf2 = RandomForestClassifier(n_estimators = RF_tuned_parameters.get('n_estimators'),\n",
        "                                  max_depth = RF_tuned_parameters.get('max_depth'),\n",
        "                                  min_samples_split = RF_tuned_parameters.get('min_samples_split'),\n",
        "                                  min_samples_leaf = RF_tuned_parameters.get('min_samples_leaf'),\n",
        "                                  max_features = RF_tuned_parameters.get('max_features'),\n",
        "                                  criterion = RF_tuned_parameters.get('criterion'),\n",
        "                                  ccp_alpha = RF_tuned_parameters.get('ccp_alpha'),\n",
        "                                  class_weight = RF_tuned_parameters.get('class_weight'),\n",
        "                                  bootstrap = RF_tuned_parameters.get('bootstrap'),\n",
        "                                  oob_score = RF_tuned_parameters.get('oob_score'),\n",
        "                                  n_jobs = RF_tuned_parameters.get('n_jobs'),\n",
        "                                  warm_start = RF_tuned_parameters.get('warm_start'),\n",
        "                                  verbose = RF_tuned_parameters.get('verbose'),\n",
        "                                  min_weight_fraction_leaf = RF_tuned_parameters.get('min_weight_fraction_leaf'),\n",
        "                                  min_impurity_decrease = RF_tuned_parameters.get('min_impurity_decrease'),\n",
        "                                  max_leaf_nodes = RF_tuned_parameters.get('max_leaf_nodes'),\n",
        "                                  max_samples = RF_tuned_parameters.get('max_samples'),\n",
        "                                  )\n",
        "\n",
        "# Note: LGBMC optimal parameters were defined previously on the base model section."
      ],
      "metadata": {
        "id": "EbM3-ecgga29"
      },
      "execution_count": null,
      "outputs": []
    },
    {
      "cell_type": "code",
      "source": [
        "vclf_hard = VotingClassifier(estimators=[('BernoulliNB', NB_clf1), ('LGBMC', LGBMC_clf), ('Random Forest', RF_clf2)], voting = 'hard') # To create an instance of the Hard Voting Classifier\n",
        "with suppress_output(): # To avoid showing related processing\n",
        "  vclf_hard.fit(x_train, y_train) # Fitting the Hard Voting meta-model to the train dataset"
      ],
      "metadata": {
        "collapsed": true,
        "id": "WpKUREn-d8Ld"
      },
      "execution_count": null,
      "outputs": []
    },
    {
      "cell_type": "code",
      "source": [
        "y_train_pred_vclf = vclf_hard.predict(x_train) # Predictions of the Hard Voting meta-model on the train dataset\n",
        "metrics_score(y_train, y_train_pred_vclf) # Evaluating the performance of the meta-model on the train dataset\n"
      ],
      "metadata": {
        "colab": {
          "base_uri": "https://localhost:8080/",
          "height": 557
        },
        "id": "N3RH8cQCe7Z-",
        "outputId": "3034c97d-29bd-4a3c-f506-135e491f632b"
      },
      "execution_count": null,
      "outputs": [
        {
          "output_type": "stream",
          "name": "stdout",
          "text": [
            "              precision    recall  f1-score   support\n",
            "\n",
            "           0       0.60      0.73      0.66        45\n",
            "           1       0.73      0.60      0.66        55\n",
            "\n",
            "    accuracy                           0.66       100\n",
            "   macro avg       0.67      0.67      0.66       100\n",
            "weighted avg       0.67      0.66      0.66       100\n",
            "\n"
          ]
        },
        {
          "output_type": "display_data",
          "data": {
            "text/plain": [
              "<Figure size 400x400 with 2 Axes>"
            ],
            "image/png": "[encoded data removed]"
          },
          "metadata": {}
        }
      ]
    },
    {
      "cell_type": "markdown",
      "source": [
        "**Observations:**\n",
        "\n",
        "* Hard Voting performed well on the train dataset, achieving a recall of class zero of 0.73"
      ],
      "metadata": {
        "id": "hDV_AOPJ5Ah2"
      }
    },
    {
      "cell_type": "code",
      "source": [
        "y_test_pred_vclf = vclf_hard.predict(x_test) # Predictions of the Hard Voting meta-moodel on the test dataset\n",
        "metrics_score(y_test, y_test_pred_vclf) # Evaluating the performance of the meta-model on the test dataset"
      ],
      "metadata": {
        "colab": {
          "base_uri": "https://localhost:8080/",
          "height": 562
        },
        "id": "xBymctj9e4gW",
        "outputId": "6a4b2af4-c203-4a77-e8f5-9afbbff60a61"
      },
      "execution_count": null,
      "outputs": [
        {
          "output_type": "stream",
          "name": "stdout",
          "text": [
            "              precision    recall  f1-score   support\n",
            "\n",
            "           0       0.67      1.00      0.80        12\n",
            "           1       1.00      0.57      0.73        14\n",
            "\n",
            "    accuracy                           0.77        26\n",
            "   macro avg       0.83      0.79      0.76        26\n",
            "weighted avg       0.85      0.77      0.76        26\n",
            "\n"
          ]
        },
        {
          "output_type": "display_data",
          "data": {
            "text/plain": [
              "<Figure size 400x400 with 2 Axes>"
            ],
            "image/png": "[encoded data removed]"
          },
          "metadata": {}
        }
      ]
    },
    {
      "cell_type": "markdown",
      "source": [
        "**Observations:**\n",
        "\n",
        "* The Hard Voting meta-model achieved a recall of class zero greater than 0.99 on the test dataset. Also, for class 1, recall is 0.57, slightly better than leaving the prediction of a happy customer to chance."
      ],
      "metadata": {
        "id": "PbxwUSNDzoli"
      }
    },
    {
      "cell_type": "markdown",
      "source": [
        "## **Soft Voting**"
      ],
      "metadata": {
        "id": "Y_q8Ij4Mm_SB"
      }
    },
    {
      "cell_type": "markdown",
      "source": [
        "Soft Voting averages the probabilities of pertaining to a certain class of all base models, and then decides the final class on this average."
      ],
      "metadata": {
        "id": "gnzC-E6NyoUT"
      }
    },
    {
      "cell_type": "code",
      "source": [
        "vclf_soft = VotingClassifier(estimators=[('BernoulliNB', NB_clf1), ('LGBMC', LGBMC_clf), ('Random Forest', RF_clf2)], voting = 'soft') # To create an instance of the Soft Voting Classifier using the base models of the initial analysis.\n",
        "with suppress_output(): # We avoid showing the related processing\n",
        "  vclf_soft.fit(x_train, y_train) # Fitting the Soft Voting meta-model on the train dataset"
      ],
      "metadata": {
        "collapsed": true,
        "id": "8MqUeg6FnBze"
      },
      "execution_count": null,
      "outputs": []
    },
    {
      "cell_type": "code",
      "source": [
        "vclf_soft_train_pred = vclf_soft.predict(x_train) # Predictions of the Soft Voting meta-model on the train dataset\n",
        "metrics_score(y_train, vclf_soft_train_pred) # Evaluating the performance of the meta-model on the train dataset"
      ],
      "metadata": {
        "colab": {
          "base_uri": "https://localhost:8080/",
          "height": 544
        },
        "id": "nKS9nQcvd5jB",
        "outputId": "9111cdbf-4728-49a4-aa89-17bcbe28994f"
      },
      "execution_count": null,
      "outputs": [
        {
          "output_type": "stream",
          "name": "stdout",
          "text": [
            "              precision    recall  f1-score   support\n",
            "\n",
            "           0       0.65      0.76      0.70        45\n",
            "           1       0.77      0.67      0.72        55\n",
            "\n",
            "    accuracy                           0.71       100\n",
            "   macro avg       0.71      0.71      0.71       100\n",
            "weighted avg       0.72      0.71      0.71       100\n",
            "\n"
          ]
        },
        {
          "output_type": "display_data",
          "data": {
            "text/plain": [
              "<Figure size 400x400 with 2 Axes>"
            ],
            "image/png": "[encoded data removed]"
          },
          "metadata": {}
        }
      ]
    },
    {
      "cell_type": "markdown",
      "source": [
        "**Observations:**\n",
        "\n",
        "* The Soft Voting meta-model performs relatively well on train data, with a recall of class zero of 0.76."
      ],
      "metadata": {
        "id": "KauqW6Tdxe5f"
      }
    },
    {
      "cell_type": "code",
      "source": [
        "vclf_soft_test_pred = vclf_soft.predict(x_test) # Predictions of Soft Voting meta-model on test dataset\n",
        "metrics_score(y_test, vclf_soft_test_pred) # Evaluating performance of the meta-model on test dataset"
      ],
      "metadata": {
        "colab": {
          "base_uri": "https://localhost:8080/",
          "height": 557
        },
        "id": "eKIC7bAsd1lY",
        "outputId": "546d6f2a-7788-4135-9d22-62dbe1239916"
      },
      "execution_count": null,
      "outputs": [
        {
          "output_type": "stream",
          "name": "stdout",
          "text": [
            "              precision    recall  f1-score   support\n",
            "\n",
            "           0       0.65      0.92      0.76        12\n",
            "           1       0.89      0.57      0.70        14\n",
            "\n",
            "    accuracy                           0.73        26\n",
            "   macro avg       0.77      0.74      0.73        26\n",
            "weighted avg       0.78      0.73      0.72        26\n",
            "\n"
          ]
        },
        {
          "output_type": "display_data",
          "data": {
            "text/plain": [
              "<Figure size 400x400 with 2 Axes>"
            ],
            "image/png": "[encoded data removed]"
          },
          "metadata": {}
        }
      ]
    },
    {
      "cell_type": "markdown",
      "source": [
        "**Observations:**\n",
        "\n",
        "* The Soft Voting meta-model achieved a recall for class zero of 0.92 and class 1 of 0.67. That means the model identifies ~92% of unhappy customers.\n",
        "\n"
      ],
      "metadata": {
        "id": "ZIvAY5IJwZNO"
      }
    },
    {
      "cell_type": "markdown",
      "source": [
        "## **Recursive Feature Elimination**"
      ],
      "metadata": {
        "id": "c8VbUYrGoRQe"
      }
    },
    {
      "cell_type": "markdown",
      "source": [
        "Once we have got both a Stacking and Voting meta-model that perform very well, it is of our interest to review what features are the most importance when making the prediction of the happiness of a customer: that means, to find the minimal set of attributes that simultaneously keeps the essential information and optimizes the predictability of the labels.\n",
        "\n",
        "To find such key variables will reduce time and financial resources dedicated to new information gathering: people have a better incentive to complete a survey if it is shorter and easier to respond."
      ],
      "metadata": {
        "id": "VB8xDidFpdO8"
      }
    },
    {
      "cell_type": "code",
      "source": [
        "# We will reduce the features on the best base model, the BernoulliNB Classifier\n",
        "selector_NB = SelectKBest(score_func=chi2, k=2) # We will keep only 2 variables at most\n",
        "selector_NB = selector_NB.fit(x_train, y_train) # Fitting the selector on the train data\n",
        "mask = selector_NB.get_support() # Boolean mask for the original values, takes value 1 if selected\n",
        "\n",
        "selected_indices = [i for i, x in enumerate(mask) if x]  # Indices of the selected features\n",
        "\n",
        "selected_features = x_train.columns[mask]  # Names of the selected features\n",
        "\n",
        "print(\"Index of selected features:\", selected_features) # To show the names of the selected features\n",
        "\n"
      ],
      "metadata": {
        "colab": {
          "base_uri": "https://localhost:8080/"
        },
        "id": "Cw3rsyu68xQf",
        "outputId": "ed4e8171-7c17-4588-d1cc-081db4691d63"
      },
      "execution_count": null,
      "outputs": [
        {
          "output_type": "stream",
          "name": "stdout",
          "text": [
            "Index of selected features: Index(['X1', 'X5'], dtype='object')\n"
          ]
        }
      ]
    },
    {
      "cell_type": "markdown",
      "source": [
        "**Observations:**\n",
        "\n",
        "After reducing the variables, the predictors to be kept in the best base model (BernoulliNB) are:\n",
        "  * *X1: my order was delivered on time.*\n",
        "  * *X5: I am satisfied with my courier.*\n",
        "\n",
        "Apparently, this selection of essential variables seems to be related to the **satisfaction of the customer with the delivery service**\n",
        "\n",
        "It implies that, **in future surveys, we can eliminate the need to collect information for:**\n",
        "\n",
        "  * *X2 : contents of my order was as I expected*\n",
        "  * *X3 : I ordered everything I wanted to order*\n",
        "  * *X4 : I paid a good price for my order*\n",
        "  * *X6 : the app makes ordering easy for me*"
      ],
      "metadata": {
        "id": "ZpUV1UCQEfuE"
      }
    },
    {
      "cell_type": "markdown",
      "source": [
        "Let's transform the original feature set to keep only the selected variables:"
      ],
      "metadata": {
        "id": "SKPZdmdwtRDC"
      }
    },
    {
      "cell_type": "code",
      "source": [
        "x_train_selected_NB = selector_NB.transform(x_train) # Keeping the selected variables in the train dataset\n",
        "x_test_selected_NB = selector_NB.transform(x_test)  # Keeping the selected variables in the test dataset"
      ],
      "metadata": {
        "id": "bX6dhAtD9ROx"
      },
      "execution_count": null,
      "outputs": []
    },
    {
      "cell_type": "markdown",
      "source": [
        "## **Best Stacking Meta-model with selected features**"
      ],
      "metadata": {
        "id": "06HjW96LuX1G"
      }
    },
    {
      "cell_type": "markdown",
      "source": [
        "Let's see how the Stacking Meta-model performs when fitting it only on the selected variables."
      ],
      "metadata": {
        "id": "F-hFObGSn38S"
      }
    },
    {
      "cell_type": "markdown",
      "source": [
        "### **Nearest Centroid Meta-model with selected features.**"
      ],
      "metadata": {
        "id": "G8NiiKbTsBZ-"
      }
    },
    {
      "cell_type": "code",
      "source": [
        "meta_model_nn_copy = copy.deepcopy(meta_model_nn) # To make a copy of the meta-model instance\n",
        "meta_model_nn_selected = meta_model_nn_copy.fit(x_train_selected_NB, y_train) # Fitting the model on the train data with selected variables"
      ],
      "metadata": {
        "id": "ZWvPorWXpx5D"
      },
      "execution_count": null,
      "outputs": []
    },
    {
      "cell_type": "code",
      "execution_count": null,
      "metadata": {
        "id": "EX0tHeSZqtD6",
        "colab": {
          "base_uri": "https://localhost:8080/",
          "height": 549
        },
        "outputId": "312139b0-ea32-448b-aefe-e72ae5ee3e84"
      },
      "outputs": [
        {
          "output_type": "stream",
          "name": "stdout",
          "text": [
            "              precision    recall  f1-score   support\n",
            "\n",
            "           0       0.57      0.56      0.56        45\n",
            "           1       0.64      0.65      0.65        55\n",
            "\n",
            "    accuracy                           0.61       100\n",
            "   macro avg       0.61      0.61      0.61       100\n",
            "weighted avg       0.61      0.61      0.61       100\n",
            "\n"
          ]
        },
        {
          "output_type": "display_data",
          "data": {
            "text/plain": [
              "<Figure size 400x400 with 2 Axes>"
            ],
            "image/png": "[encoded data removed]"
          },
          "metadata": {}
        }
      ],
      "source": [
        "y_train_pred_selected = meta_model_nn_selected.predict(x_train_selected_NB) # Predictions of the Nearest Centroid Meta-model on the train data with selected variables\n",
        "metrics_score(y_train, y_train_pred_selected) # Evaluating the performance of the meta-model on the train data"
      ]
    },
    {
      "cell_type": "code",
      "execution_count": null,
      "metadata": {
        "id": "xrh1-g0fqrEg",
        "colab": {
          "base_uri": "https://localhost:8080/",
          "height": 549
        },
        "outputId": "978cb19e-46fc-429c-987c-cda67e4ba31d"
      },
      "outputs": [
        {
          "output_type": "stream",
          "name": "stdout",
          "text": [
            "              precision    recall  f1-score   support\n",
            "\n",
            "           0       0.71      1.00      0.83        12\n",
            "           1       1.00      0.64      0.78        14\n",
            "\n",
            "    accuracy                           0.81        26\n",
            "   macro avg       0.85      0.82      0.81        26\n",
            "weighted avg       0.86      0.81      0.80        26\n",
            "\n"
          ]
        },
        {
          "output_type": "display_data",
          "data": {
            "text/plain": [
              "<Figure size 400x400 with 2 Axes>"
            ],
            "image/png": "[encoded data removed]"
          },
          "metadata": {}
        }
      ],
      "source": [
        "y_test_pred_selected = meta_model_nn_selected.predict(x_test_selected_NB) # Predictions of the Nearest Centroid meta-model on the test data\n",
        "metrics_score(y_test, y_test_pred_selected) # Evaluating the performance of the model on the test data"
      ]
    },
    {
      "cell_type": "markdown",
      "source": [
        "**Observations:**\n",
        "\n",
        "* The Nearest Centroid meta-model with the reduced feature set of X1 and X5 demonstrated a high performance on the test dataset, as it achieves a recall of class zero greater that 0.99. This outperforms the Nearest Centroid meta-model with the original 6 predictors, which achieved a recall of class zero of 0.83.\n",
        "* Simultaneously, this meta model also achieves a recall of class 1 of 0.64 on the test dataset.\n",
        "* This means the model recognizes well **unhappy customers** and fails to identify ~36% of the actual **happy customers**.\n",
        "* As precision of class zero is 0.71, that means that 29% of what the model classifies as **unhappy customers** is actually a **happy** one. Conversely, as precision of class 1 is ~1.00, that means that what the model predicts as a **happy customer** is correctly classified. Although, by the recall values mentioned lines above, we realize that the model does not identify a fraction of the **happy customers**.\n",
        "* This behavior might be an indicator of  patterns in the test dataset clearer than the ones in the train dataset. That might mean that class zero could be better represented in the test dataset.\n"
      ],
      "metadata": {
        "id": "jWWW1MgqfcRL"
      }
    },
    {
      "cell_type": "markdown",
      "source": [
        "## **Best Voting Meta-model with selected features**\n"
      ],
      "metadata": {
        "id": "n1qo7a3DyABW"
      }
    },
    {
      "cell_type": "markdown",
      "source": [
        "Finally, let's check how the Voting Meta-model performs when trained on the selected variables."
      ],
      "metadata": {
        "id": "p2NvYGSdoRJ4"
      }
    },
    {
      "cell_type": "markdown",
      "source": [
        "### **Hard-Voting Meta-model with selected features**"
      ],
      "metadata": {
        "id": "4f5B35n4saYm"
      }
    },
    {
      "cell_type": "code",
      "source": [
        "vclfhard_copy = copy.deepcopy(vclf_hard) # To make a copy of the meta-model instance\n",
        "with suppress_output(): # To avoid showing processing\n",
        "  vclfhard_selected = vclfhard_copy.fit(x_train_selected_NB, y_train) # Fitting on the train data"
      ],
      "metadata": {
        "collapsed": true,
        "id": "CINJuKtWAIhK"
      },
      "execution_count": null,
      "outputs": []
    },
    {
      "cell_type": "code",
      "source": [
        "y_train_pred_svclfhard_selected = vclfhard_selected.predict(x_train_selected_NB) # Predictions of the Hard Voting meta-model on the train data\n",
        "metrics_score(y_train, y_train_pred_svclfhard_selected) # Evaluating the performance of the model on the train data"
      ],
      "metadata": {
        "colab": {
          "base_uri": "https://localhost:8080/",
          "height": 544
        },
        "id": "72Ftze9sA6h-",
        "outputId": "de3088a0-d46a-4c6c-e713-a308dfe1dea9"
      },
      "execution_count": null,
      "outputs": [
        {
          "output_type": "stream",
          "name": "stdout",
          "text": [
            "              precision    recall  f1-score   support\n",
            "\n",
            "           0       0.58      0.73      0.65        45\n",
            "           1       0.72      0.56      0.63        55\n",
            "\n",
            "    accuracy                           0.64       100\n",
            "   macro avg       0.65      0.65      0.64       100\n",
            "weighted avg       0.66      0.64      0.64       100\n",
            "\n"
          ]
        },
        {
          "output_type": "display_data",
          "data": {
            "text/plain": [
              "<Figure size 400x400 with 2 Axes>"
            ],
            "image/png": "[encoded data removed]"
          },
          "metadata": {}
        }
      ]
    },
    {
      "cell_type": "markdown",
      "source": [
        "**Observations:**\n",
        "\n",
        "\n",
        "* The Hard Voting meta-model performs well on the train dataset: it achieves a recall of class zero of 0.73.\n",
        "* On the other hand, the model performs less effectively in terms of class 1: the recall of this class is 0.56 on the train dataset."
      ],
      "metadata": {
        "id": "wyP1FzjWekUd"
      }
    },
    {
      "cell_type": "code",
      "source": [
        "y_test_pred_svclfhard_selected = vclfhard_selected.predict(x_test_selected_NB) # Predictions of the Hard Voting meta-model on the test data\n",
        "metrics_score(y_test, y_test_pred_svclfhard_selected) # Evaluating the performance of the model on the test data"
      ],
      "metadata": {
        "colab": {
          "base_uri": "https://localhost:8080/",
          "height": 562
        },
        "id": "U0wHyjsYBHnY",
        "outputId": "53806237-8d29-4b01-8319-db52c9b01881"
      },
      "execution_count": null,
      "outputs": [
        {
          "output_type": "stream",
          "name": "stdout",
          "text": [
            "              precision    recall  f1-score   support\n",
            "\n",
            "           0       0.71      1.00      0.83        12\n",
            "           1       1.00      0.64      0.78        14\n",
            "\n",
            "    accuracy                           0.81        26\n",
            "   macro avg       0.85      0.82      0.81        26\n",
            "weighted avg       0.86      0.81      0.80        26\n",
            "\n"
          ]
        },
        {
          "output_type": "display_data",
          "data": {
            "text/plain": [
              "<Figure size 400x400 with 2 Axes>"
            ],
            "image/png": "[encoded data removed]"
          },
          "metadata": {}
        }
      ]
    },
    {
      "cell_type": "markdown",
      "source": [
        "**Observations:**\n",
        "\n",
        "* The Hard Voting meta-model with the reduced feature set of X1 and X5 demonstrated a high performance on the test dataset, as it achieves a recall of class zero greater that 0.99, equaling the performance of the meta-model on the original 6 predictors.\n",
        "* Simultaneously, this meta model also achieves a recall of class 1 of 0.64 on the test dataset.\n",
        "* This means the model recognizes well **unhappy customers** and fails to identify ~36% of the actual **happy customers**.\n",
        "* As precision of class zero is 0.71, that means that 29% of what the model classifies as **unhappy customers** is actually a **happy** one. Conversely, as precision of class 1 is ~1.00, that means that what the model predicts as a **happy customer** is correctly classified. Although, by the recall values mentioned lines above, we realize that the model does not identify a fraction of the **happy customers**.\n",
        "* This behavior might be an indicator of  patterns in the test dataset clearer than the ones in the train dataset. That means that class zero may be better represented in the test dataset.\n"
      ],
      "metadata": {
        "id": "Nw8agMbNu8zs"
      }
    },
    {
      "cell_type": "markdown",
      "source": [
        "## **Summary**"
      ],
      "metadata": {
        "id": "kwNtENxNTIN5"
      }
    },
    {
      "cell_type": "markdown",
      "source": [
        "* In this project, it is crucial to identify the characteristics of an unhappy customer based on the survey features. Therefore, the primary metric to focus on is the recall of class zero (\"Unhappy\").\n",
        "\n",
        "* Each sample in the available dataset includes 6 distinct features and a label indicating 'Happy' (1) or 'Unhappy' (0). Using this information, a benchmark analysis of various classifiers was conducted, revealing the three best models to initiate the analysis. After tuning the base models to find the best hyperparameters, the following recalls for class zero on the test dataset were achieved:\n",
        "\n",
        "  * **Tuned Bernoulli NB:** 0.83\n",
        "  * **LGBMC:** 0.75\n",
        "  * **Tuned Random Forest:** 0.67\n",
        "\n",
        "  **Tuned Bernoulli NB** demonstrated to be the best base model for predicting on the original 6-feature test dataset. The three base models were kept as input for the Ensemble models.\n",
        "\n",
        "* After conducting a benchmark, the three top classifiers suitable for **stacking ensemble methods** were selected. Each classifier utilized the three best base models as inputs, achieving recall values for class zero on the test dataset as follows:\n",
        "  * **Nearest Centroid**: 0.83\n",
        "  * **Decision Tree**: 0.75\n",
        "  * **Extra Tree**: 0.75\n",
        "\n",
        "  **Nearest Centroid Stacking meta-model** demonstrated to be the best Stacking ensemble classifier out of the top three.\n",
        "\n",
        "* Two **voting ensemble methods** were evaluated: Hard Voting and Soft Voting. The **Hard Voting meta-model** achieved a recall of class zero greater than 0.99, while the **Soft Voting meta-model** had a recall of 0.92 for class zero. **Hard Voting meta-model** demonstrated to be the best of the voting approaches.\n",
        "\n",
        "* When applying **Recursive Feature Elimination**, the two most important features to be kept in the prediction model are X1 (\"my order was delivered on time\") and X5 (\"I am satisfied with my courier\"). We can see that there is an underlying construct related to **customer satisfaction with the delivery service.**\n",
        "\n",
        "* After reducing the feature set to 2 variables, the **Bernoulli NB base model** showed a recall for class 0 greater than 0.99 on the test dataset.Similarly, with the reduced feature set, both the **Nearest Centroid Stacking meta-model** and the **Hard Voting meta-model** achieved a recall for class 0 greater than 0.99 on the test data set.\n",
        "\n",
        "* In both the **Nearest Centroid Stacking meta-model** and the **Hard Voting meta-model** , the recall of class 1 (\"Happy customers\") is 0.64. That means that both models have 36% true class 1 customers misclassified as class 0 (\"Unhappy\").\n",
        "\n",
        "## **Recommendations:**\n",
        "\n",
        "* To further analyse and put to the test the outstanding results of both the **Hard Voting** and **Nearest Centroid**  meta-models on the two-feature dataset, it is recommended to increase the size of the subset of data, therefore increasing the presence of samples of class zero customers **unhappy customers** in the test dataset (30 minimum recommended), while keeping the same train-set ratio (0.8 to 0.2). After this increase, the models can be fitted and evaluated again to provide additional insights on the current and new patterns of class zero customers.\n",
        "\n",
        "* As seen previously in the **Recurse Feature Elimination**, the final ensemble model could perform exceptionally by only working on two features:\n",
        "\n",
        "    * X1: my order was delivered on time.\n",
        "    * X5: I am satisfied with my courier.\n",
        "\n",
        "* Both X1 and X5 seem to be contained within a construct of **Satisfaction with the delivery service.** This concern of the customers can be better addressed through a process of benchmark on the company's delivery business partners. Quality assurance and standarization of the delivery processes is a must to ensure customer's satisfaction.\n",
        "\n",
        "* For future inquiries, the survey can reduce the number of questions, and keep only those related to X1 and X5. This is both a time and effort saving incentive for the people answering the survey, since it will be easier and faster for them to complete it. Also, future analysis for greater volumes of samples will be more time-effective in their performance on these meta-models.\n",
        "\n",
        "* Further analysis can be provided if a 'Courier' feature is included in the subset, so we could predict which business partners are providing a good level of service level and customer satisfaction and which have room for improvement in the same metrics.\n",
        "\n",
        "* As both final meta-models identify practically all the class 0 customers in an accurate fashion, **research on the root causes for the low satisfaction** can be performed, such as **focus groups** or other qualitative techniques. And this research can center its attention on the 2 most important features.\n",
        "\n",
        "* Although both final meta-models suggest a recall of class 1 of 0.64, it doesn't imply an important resource investment in already-happy customers: a quick follow-up on them asking how they feel about the company's services might even foster brand fidelity on them.\n",
        "\n",
        "**Conclusions**\n",
        "\n",
        "* The 2 most important features of the dataset are:\n",
        "\n",
        "    * X1: my order was delivered on time.\n",
        "    * X5: I am satisfied with my courier.\n",
        "  \n",
        "  That implies that accurate predictions can be made by focusing only in the **customer satisfaction with the delivery service.**\n",
        "\n",
        "* Two ensemble models show similar outstanding results when predicting while using only these 2 features, therefore ensuring the detection of the true unhappy customers. However, it might be related to very specific feature-value distributions for class zero customers on the test dataset.\n",
        "\n",
        "* For further analysis, it is recommended to increase the subset size, to ensure that class zero samples are well represented.\n",
        "\n",
        "* There is an opportunity nich to further investigate what it is happening on the delivery services of the company's business partners. It can be aboarded both by approaching to the unhappy customers for research purposes on this topic, as well as by performing an internal comparison between the service suppliers.\n",
        "\n",
        "* A request for including a 'Courier' column in the subsequent data subsets is recommended, to make it possible to analyse trends by business partner.\n",
        "\n",
        "\n"
      ],
      "metadata": {
        "id": "UIxa_rbkUDoJ"
      }
    },
    {
      "cell_type": "markdown",
      "source": [
        "___________________________________________________________________________\n",
        "Last update: 2024.07.27\n",
        "\n",
        "Prepared by: Japhet Hernández-Vaquero\n",
        "\n",
        "For: Apziva Residency Program"
      ],
      "metadata": {
        "id": "oDr755xSe48O"
      }
    }
  ],
  "metadata": {
    "colab": {
      "provenance": [],
      "machine_shape": "hm"
    },
    "kernelspec": {
      "display_name": "Python 3",
      "name": "python3"
    },
    "language_info": {
      "name": "python"
    }
  },
  "nbformat": 4,
  "nbformat_minor": 0
}
